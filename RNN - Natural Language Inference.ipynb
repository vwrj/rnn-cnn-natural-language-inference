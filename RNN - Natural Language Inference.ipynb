{
 "cells": [
  {
   "cell_type": "code",
   "execution_count": 35,
   "metadata": {},
   "outputs": [],
   "source": [
    "import numpy as np\n",
    "import torch\n",
    "import torch.nn as nn\n",
    "import torch.nn.functional as F\n",
    "from torch.utils.data import Dataset\n",
    "from collections import Counter\n",
    "import pickle as pkl\n",
    "import random\n",
    "import pdb\n",
    "import io\n",
    "import nltk\n",
    "from nltk.tokenize import sent_tokenize, word_tokenize\n",
    "import pandas as pd\n",
    "import pdb\n",
    "\n",
    "BATCH_SIZE = 32"
   ]
  },
  {
   "cell_type": "markdown",
   "metadata": {},
   "source": [
    "### Using FastText Word Embeddings"
   ]
  },
  {
   "cell_type": "code",
   "execution_count": 36,
   "metadata": {},
   "outputs": [],
   "source": [
    "def load_vectors(fname):\n",
    "    fin = io.open(fname, 'r', encoding='utf-8', newline='\\n', errors='ignore')\n",
    "    n, d = map(int, fin.readline().split())\n",
    "    data = {}\n",
    "    print(n, d)\n",
    "    i = 0\n",
    "    for line in fin:\n",
    "        if i == VOCAB_SIZE:\n",
    "            break\n",
    "        tokens = line.rstrip().split(' ')\n",
    "        data[tokens[0]] = np.array(list(map(float, tokens[1:])))\n",
    "        i += 1\n",
    "    return data"
   ]
  },
  {
   "cell_type": "markdown",
   "metadata": {},
   "source": [
    "### Build vocabulary, id2token, token2id"
   ]
  },
  {
   "cell_type": "code",
   "execution_count": 37,
   "metadata": {},
   "outputs": [],
   "source": [
    "from collections import Counter\n",
    "# save index 0 for unk and 1 for pad\n",
    "PAD_IDX = 0\n",
    "UNK_IDX = 1\n",
    "VOCAB_SIZE = 50000\n",
    "\n",
    "def build_vocab():\n",
    "    # Returns:\n",
    "    # id2token: list of tokens, where id2token[i] returns token that corresponds to token i\n",
    "    # token2id: dictionary where keys represent tokens and corresponding values represent indices\n",
    "    word_vectors = load_vectors(\"/Users/vrajiv/Desktop/rnn-cnn-natural-language-inference/wiki-news-300d-1M-subword.vec\")\n",
    "    id2token = list(word_vectors.keys())\n",
    "    token2id = dict(zip(word_vectors, range(2,2+len(word_vectors)))) \n",
    "    id2token = ['<pad>', '<unk>'] + id2token\n",
    "    token2id['<pad>'] = PAD_IDX \n",
    "    token2id['<unk>'] = UNK_IDX\n",
    "    return word_vectors, token2id, id2token"
   ]
  },
  {
   "cell_type": "code",
   "execution_count": 38,
   "metadata": {},
   "outputs": [
    {
     "name": "stdout",
     "output_type": "stream",
     "text": [
      "999994 300\n"
     ]
    }
   ],
   "source": [
    "word_vectors, token2id, id2token = build_vocab()"
   ]
  },
  {
   "cell_type": "code",
   "execution_count": 39,
   "metadata": {},
   "outputs": [
    {
     "data": {
      "text/plain": [
       "(50002, 300)"
      ]
     },
     "execution_count": 39,
     "metadata": {},
     "output_type": "execute_result"
    }
   ],
   "source": [
    "_weights = np.array(list(word_vectors.values()))\n",
    "pad_vec = np.zeros((1, 300))\n",
    "unk_vec = np.random.randn(1, 300) * 0.01\n",
    "pad_unk_vecs = np.vstack((pad_vec, unk_vec))\n",
    "_WEIGHTS = np.vstack((pad_unk_vecs, _weights))\n",
    "_WEIGHTS.shape"
   ]
  },
  {
   "cell_type": "markdown",
   "metadata": {},
   "source": [
    "### Creating toy dataset with 5000 training data, 1000 validation"
   ]
  },
  {
   "cell_type": "code",
   "execution_count": 102,
   "metadata": {},
   "outputs": [],
   "source": [
    "snli_train = pd.read_csv('/Users/vrajiv/Desktop/rnn-cnn-natural-language-inference/hw2_data/snli_train.tsv', sep='\\t')\n",
    "TRAIN_VAL_SPLIT = 20000\n",
    "DATA_SIZE = 25000"
   ]
  },
  {
   "cell_type": "code",
   "execution_count": 103,
   "metadata": {},
   "outputs": [
    {
     "name": "stdout",
     "output_type": "stream",
     "text": [
      "25000\n"
     ]
    }
   ],
   "source": [
    "sent1_data = list(snli_train[\"sentence1\"])[:DATA_SIZE]\n",
    "sent2_data = list(snli_train[\"sentence2\"])[:DATA_SIZE]\n",
    "data_label = list(snli_train[\"label\"])[:DATA_SIZE]\n",
    "print(len(sent1_data))"
   ]
  },
  {
   "cell_type": "code",
   "execution_count": 104,
   "metadata": {},
   "outputs": [],
   "source": [
    "def convert_labels_to_integers(data_label):\n",
    "    for i in range(len(data_label)):\n",
    "        if data_label[i] == \"contradiction\":\n",
    "            data_label[i] = 0\n",
    "        elif data_label[i] == \"entailment\":\n",
    "            data_label[i] = 1\n",
    "        elif data_label[i] == \"neutral\":\n",
    "            data_label[i] = 2\n",
    "    return data_label"
   ]
  },
  {
   "cell_type": "code",
   "execution_count": 105,
   "metadata": {},
   "outputs": [],
   "source": [
    "data_label = convert_labels_to_integers(data_label)"
   ]
  },
  {
   "cell_type": "code",
   "execution_count": 106,
   "metadata": {},
   "outputs": [],
   "source": [
    "SEED = 1\n",
    "random.Random(SEED).shuffle(sent1_data)\n",
    "random.Random(SEED).shuffle(sent2_data)\n",
    "random.Random(SEED).shuffle(data_label)"
   ]
  },
  {
   "cell_type": "code",
   "execution_count": 107,
   "metadata": {},
   "outputs": [
    {
     "name": "stdout",
     "output_type": "stream",
     "text": [
      "A mountain climber wearing an orange helmet swings his Axe .\n",
      "A mountain climber in a helmet swings his axe as he approaches the top of the mountain .\n",
      "2\n"
     ]
    }
   ],
   "source": [
    "def verify_order(sent1_data, sent2_data, data_label):\n",
    "    i = random.randint(1, len(sent1_data))\n",
    "    print(sent1_data[i])\n",
    "    print(sent2_data[i])\n",
    "    print(data_label[i])\n",
    "\n",
    "verify_order(sent1_data, sent2_data, data_label)"
   ]
  },
  {
   "cell_type": "markdown",
   "metadata": {},
   "source": [
    "### Train/Val split"
   ]
  },
  {
   "cell_type": "code",
   "execution_count": 108,
   "metadata": {},
   "outputs": [],
   "source": [
    "sent1_train = sent1_data[:TRAIN_VAL_SPLIT]\n",
    "sent2_train = sent2_data[:TRAIN_VAL_SPLIT]\n",
    "train_label = data_label[:TRAIN_VAL_SPLIT]\n",
    "\n",
    "sent1_val = sent1_data[TRAIN_VAL_SPLIT:]\n",
    "sent2_val = sent2_data[TRAIN_VAL_SPLIT:]\n",
    "val_label = data_label[TRAIN_VAL_SPLIT:]"
   ]
  },
  {
   "cell_type": "code",
   "execution_count": 109,
   "metadata": {},
   "outputs": [
    {
     "name": "stdout",
     "output_type": "stream",
     "text": [
      "20000 20000 20000\n",
      "5000 5000 5000\n"
     ]
    }
   ],
   "source": [
    "print(len(sent1_train), len(sent2_train), len(train_label))\n",
    "print(len(sent1_val), len(sent2_val), len(val_label))"
   ]
  },
  {
   "cell_type": "code",
   "execution_count": 110,
   "metadata": {},
   "outputs": [
    {
     "name": "stdout",
     "output_type": "stream",
     "text": [
      "one woman holding flowers and two men on a bench\n",
      "A woman is holding flowers by two men on a bench .\n",
      "1\n",
      "Young african american child is held and stars at the camera .\n",
      "Black child held and staring at the camera\n",
      "1\n"
     ]
    }
   ],
   "source": [
    "verify_order(sent1_train, sent2_train, train_label)\n",
    "verify_order(sent1_val, sent2_val, val_label)"
   ]
  },
  {
   "cell_type": "markdown",
   "metadata": {},
   "source": [
    "### Word tokenizing"
   ]
  },
  {
   "cell_type": "code",
   "execution_count": 111,
   "metadata": {},
   "outputs": [],
   "source": [
    "def tokenize(sentence_list):\n",
    "    return [word_tokenize(sentence_list[i]) for i in range(len(sentence_list))]\n",
    "\n",
    "# train\n",
    "sent1_train_tokenized = tokenize(sent1_train)\n",
    "sent2_train_tokenized = tokenize(sent2_train)\n",
    "\n",
    "# val\n",
    "sent1_val_tokenized = tokenize(sent1_val)\n",
    "sent2_val_tokenized = tokenize(sent2_val)"
   ]
  },
  {
   "cell_type": "markdown",
   "metadata": {},
   "source": [
    "### \"One-hot encoding\"\n",
    "#### Represent each sentence as a vector of indices in our vocabulary"
   ]
  },
  {
   "cell_type": "code",
   "execution_count": 112,
   "metadata": {},
   "outputs": [],
   "source": [
    "# convert token to id in the dataset\n",
    "def token2index_dataset(tokens_data):\n",
    "    indices_data = []\n",
    "    for tokens in tokens_data:\n",
    "        index_list = [token2id[token] if token in token2id else UNK_IDX for token in tokens]\n",
    "        indices_data.append(index_list)\n",
    "    return indices_data "
   ]
  },
  {
   "cell_type": "code",
   "execution_count": 113,
   "metadata": {},
   "outputs": [],
   "source": [
    "# train\n",
    "sent1_train_indices = token2index_dataset(sent1_train_tokenized)\n",
    "sent2_train_indices = token2index_dataset(sent2_train_tokenized)\n",
    "\n",
    "# val\n",
    "sent1_val_indices = token2index_dataset(sent1_val_tokenized)\n",
    "sent2_val_indices = token2index_dataset(sent2_val_tokenized)"
   ]
  },
  {
   "cell_type": "markdown",
   "metadata": {},
   "source": [
    "### Data Loader"
   ]
  },
  {
   "cell_type": "code",
   "execution_count": 114,
   "metadata": {},
   "outputs": [],
   "source": [
    "MAX_SENTENCE_LENGTH = 300\n",
    "\n",
    "import numpy as np\n",
    "import torch\n",
    "from torch.utils.data import Dataset\n",
    "\n",
    "class TwoSentencesDataset(Dataset):\n",
    "    \"\"\"\n",
    "    Class that represents a train/validation/test dataset that's readable for PyTorch\n",
    "    \"\"\"\n",
    "    \n",
    "    def __init__(self, sent1_data_list, sent2_data_list, target_list):\n",
    "        \"\"\"\n",
    "        @param sent1_data_list: list of sentence1's (index matches sentence2's and target_list below)\n",
    "        @param sent2_data_list: list of sentence2's\n",
    "        @param target_list: list of correct labels\n",
    "\n",
    "        \"\"\"\n",
    "        self.sent1_data_list = sent1_data_list\n",
    "        self.sent2_data_list = sent2_data_list\n",
    "        self.target_list = target_list\n",
    "        assert (len(self.sent1_data_list) == len(self.target_list) and len(self.sent2_data_list) == len(self.target_list))\n",
    "\n",
    "    def __len__(self):\n",
    "        return len(self.sent1_data_list)\n",
    "        \n",
    "    def __getitem__(self, key):\n",
    "        ###\n",
    "        ### Returns [[sentence, 1, tokens], [sentence, 2, tokens]]\n",
    "        ###\n",
    "        \"\"\"\n",
    "        Triggered when you call dataset[i]\n",
    "        \"\"\"\n",
    "        sent1_tokens_idx = self.sent1_data_list[key][:MAX_SENTENCE_LENGTH]\n",
    "        sent2_tokens_idx = self.sent2_data_list[key][:MAX_SENTENCE_LENGTH]\n",
    "        combined_tokens_idx = [sent1_tokens_idx, sent2_tokens_idx]\n",
    "        label = self.target_list[key]\n",
    "        return [combined_tokens_idx, len(sent1_tokens_idx), len(sent2_tokens_idx), label]\n",
    "\n",
    "def twosentences_collate_func(batch):\n",
    "    \"\"\"\n",
    "    Customized function for DataLoader that dynamically pads the batch so that all \n",
    "    data have the same length\n",
    "    \"\"\"\n",
    "    sent1_data_list = []\n",
    "    sent2_data_list = []\n",
    "    sent1_length_list = []\n",
    "    sent2_length_list = []\n",
    "    label_list = []\n",
    "    combined_data_list = []\n",
    "    #print(\"collate batch: \", batch[0][0])\n",
    "    #batch[0][0] = batch[0][0][:MAX_SENTENCE_LENGTH]\n",
    "    for datum in batch:\n",
    "        label_list.append(datum[3])\n",
    "        sent1_length_list.append(datum[1])\n",
    "        sent2_length_list.append(datum[2])\n",
    "    # padding\n",
    "    for datum in batch:\n",
    "        padded_vec_1 = np.pad(np.array(datum[0][0]), pad_width=((0,MAX_SENTENCE_LENGTH-datum[1])), \n",
    "                                mode=\"constant\", constant_values=0)\n",
    "        padded_vec_2 = np.pad(np.array(datum[0][1]), pad_width=((0,MAX_SENTENCE_LENGTH-datum[2])), \n",
    "                                mode=\"constant\", constant_values=0)\n",
    "        combined_data_list.append([padded_vec_1, padded_vec_2])\n",
    "    return [torch.from_numpy(np.array(combined_data_list)), \n",
    "            torch.LongTensor(sent1_length_list), torch.LongTensor(sent2_length_list), torch.LongTensor(label_list)]"
   ]
  },
  {
   "cell_type": "code",
   "execution_count": 115,
   "metadata": {},
   "outputs": [],
   "source": [
    "train_dataset = TwoSentencesDataset(sent1_train_indices, sent2_train_indices, train_label)\n",
    "train_loader = torch.utils.data.DataLoader(dataset=train_dataset, \n",
    "                                           batch_size=BATCH_SIZE, \n",
    "                                           collate_fn=twosentences_collate_func,\n",
    "                                           #shuffle=True\n",
    "                                          )\n",
    "\n",
    "val_dataset = TwoSentencesDataset(sent1_val_indices, sent2_val_indices, val_label)\n",
    "val_loader = torch.utils.data.DataLoader(dataset=val_dataset, \n",
    "                                           batch_size=BATCH_SIZE, \n",
    "                                           collate_fn=twosentences_collate_func,\n",
    "                                           #shuffle=True\n",
    "                                          )"
   ]
  },
  {
   "cell_type": "markdown",
   "metadata": {},
   "source": [
    "### The Model"
   ]
  },
  {
   "cell_type": "code",
   "execution_count": 116,
   "metadata": {},
   "outputs": [],
   "source": [
    "class TwoSentenceModel(nn.Module):\n",
    "    def __init__(self, hidden_size, num_layers, num_classes, emb_size = 300):\n",
    "        # RNN Accepts the following hyperparams:\n",
    "        # emb_size: Embedding Size\n",
    "        # hidden_size: Hidden Size of layer in RNN\n",
    "        # num_layers: number of layers in RNN\n",
    "        # num_classes: number of output classes\n",
    "        # vocab_size: vocabulary size\n",
    "        super(TwoSentenceModel, self).__init__()\n",
    "\n",
    "        self.num_layers, self.hidden_size = num_layers, hidden_size\n",
    "        weight = torch.FloatTensor(_WEIGHTS)\n",
    "        self.embedding = nn.Embedding.from_pretrained(weight, freeze=True)\n",
    "#         self.rnn = nn.RNN(emb_size, hidden_size, num_layers, batch_first=True)\n",
    "#         self.linear = nn.Linear(2*hidden_size, num_classes)\n",
    "        # TRYING GRU, UNCOMMENT Below if doing GRU\n",
    "        self.rnn = nn.GRU(emb_size, hidden_size, num_layers, batch_first=True, bidirectional=True)\n",
    "        self.linear = nn.Linear(4*hidden_size, num_classes)\n",
    "\n",
    "    def init_hidden(self, batch_size):\n",
    "        # Function initializes the activation of recurrent neural net at timestep 0\n",
    "        # Needs to be in format (num_layers, batch_size, hidden_size)\n",
    "        return torch.randn(2, batch_size*2, self.hidden_size)\n",
    "\n",
    "    def forward(self, x, sent1_lengths, sent2_lengths):\n",
    "        # reset hidden state\n",
    "        batch_size = x.size()[0]\n",
    "                \n",
    "        s1lengths = list(sent1_lengths)\n",
    "        s2lengths = list(sent2_lengths)\n",
    "        ordered_slengths = s1lengths + s2lengths\n",
    "\n",
    "        reverse_sorted_indices = [x for _, x in sorted(zip(ordered_slengths, range(len(ordered_slengths))), reverse=True)]\n",
    "        reverse_sorted_lengths = [x for x, _ in sorted(zip(ordered_slengths, range(len(ordered_slengths))), reverse=True)]\n",
    "        reverse_sorted_lengths = np.array(reverse_sorted_lengths)\n",
    "        \n",
    "        sent1s = x[:, 0, :]\n",
    "        sent2s = x[:, 1, :]\n",
    "        ordered_sents = torch.cat([sent1s, sent2s], dim=0)\n",
    "        reverse_sorted_data = torch.index_select(ordered_sents, 0, torch.tensor(reverse_sorted_indices))\n",
    "        \n",
    "        # get embedding\n",
    "        embed = self.embedding(reverse_sorted_data)\n",
    "        \n",
    "        self.hidden = self.init_hidden(batch_size)\n",
    "\n",
    "        # pack padded sequence\n",
    "        embed = torch.nn.utils.rnn.pack_padded_sequence(embed, reverse_sorted_lengths, batch_first=True)\n",
    "              \n",
    "        # fprop though RNN\n",
    "        rnn_out, self.hidden = self.rnn(embed, self.hidden)\n",
    "                \n",
    "        ### MATCHING BACK\n",
    "        change_it_back = [x for _, x in sorted(zip(reverse_sorted_indices, range(len(reverse_sorted_indices))))]\n",
    "        self.hidden = torch.index_select(self.hidden, 1, torch.LongTensor(change_it_back)) \n",
    "        \n",
    "        # 2 by 64 by 250. back in the right order that it came in. \n",
    "        \n",
    "#         hidden_sent1s = self.hidden[0, 0:batch_size, :]\n",
    "#         hidden_sent2s = self.hidden[0, batch_size:, :]\n",
    "              \n",
    "        ### GRU stuff\n",
    "        hidden_sent1s = torch.cat([self.hidden[0, 0:batch_size, :], self.hidden[1, 0:batch_size, :]], dim=1)\n",
    "        hidden_sent2s = torch.cat([self.hidden[0, batch_size:, :], self.hidden[1, batch_size:, :]], dim=1)\n",
    "                \n",
    "        logits = self.linear(torch.cat([hidden_sent1s, hidden_sent2s], dim=1))\n",
    "        return logits"
   ]
  },
  {
   "cell_type": "code",
   "execution_count": 117,
   "metadata": {},
   "outputs": [
    {
     "data": {
      "text/plain": [
       "torch.Size([32, 500])"
      ]
     },
     "execution_count": 117,
     "metadata": {},
     "output_type": "execute_result"
    }
   ],
   "source": [
    "b = torch.randn(32, 250)\n",
    "a = torch.randn(32, 250)\n",
    "torch.cat([a, b], dim = 1).shape"
   ]
  },
  {
   "cell_type": "code",
   "execution_count": 118,
   "metadata": {},
   "outputs": [],
   "source": [
    "# Function for testing the model\n",
    "def test_model(loader, model):\n",
    "    \"\"\"\n",
    "    Helper function that tests the model's performance on a dataset\n",
    "    \"\"\"\n",
    "    correct = 0\n",
    "    total = 0\n",
    "    model.eval()\n",
    "    for (data, sent1_lengths, sent2_lengths, labels) in loader:\n",
    "        data_batch, sent1_length_batch, sent2_length_batch, label_batch = data, sent1_lengths, sent2_lengths, labels\n",
    "        outputs = F.softmax(model(data_batch, sent1_length_batch, sent2_length_batch), dim=1)\n",
    "        predicted = outputs.max(1, keepdim=True)[1]\n",
    "        total += labels.size(0)\n",
    "        correct += predicted.eq(labels.view_as(predicted)).sum().item()\n",
    "    return (100 * correct / total)\n",
    "\n",
    "def train_model(model, lr = 0.001, num_epochs = 5, criterion = nn.CrossEntropyLoss()):\n",
    "    optimizer = torch.optim.Adam(model.parameters(), lr=lr) \n",
    "\n",
    "    for epoch in range(num_epochs):\n",
    "        for i, (data, sent1_lengths, sent2_lengths, labels) in enumerate(train_loader):\n",
    "            model.train()\n",
    "            data_batch, sent1_length_batch, sent2_length_batch, label_batch = data, sent1_lengths, sent2_lengths, labels\n",
    "            optimizer.zero_grad()\n",
    "            outputs = model(data_batch, sent1_length_batch, sent2_length_batch)\n",
    "            loss = criterion(outputs, label_batch)\n",
    "            \n",
    "            loss.backward()\n",
    "            optimizer.step()\n",
    "            # validate every 100 iterations\n",
    "            if i > 0 and i % 100 == 0:\n",
    "                # validate\n",
    "                val_acc = test_model(val_loader, model)\n",
    "                print('Epoch: [{}/{}], Step: [{}/{}], Validation Acc: {}'.format( \n",
    "                           epoch+1, num_epochs, i+1, len(train_loader), val_acc))\n",
    "                print('Epoch: [{}/{}], Step: [{}/{}], Training Loss: {}'.format( \n",
    "                           epoch+1, num_epochs, i+1, len(train_loader), loss))"
   ]
  },
  {
   "cell_type": "code",
   "execution_count": 119,
   "metadata": {},
   "outputs": [
    {
     "name": "stdout",
     "output_type": "stream",
     "text": [
      "Epoch: [1/5], Step: [101/625], Validation Acc: 40.44\n",
      "Epoch: [1/5], Step: [101/625], Training Loss: 1.052436113357544\n",
      "Epoch: [1/5], Step: [201/625], Validation Acc: 44.36\n",
      "Epoch: [1/5], Step: [201/625], Training Loss: 1.1289901733398438\n",
      "Epoch: [1/5], Step: [301/625], Validation Acc: 45.32\n",
      "Epoch: [1/5], Step: [301/625], Training Loss: 0.9672324061393738\n",
      "Epoch: [1/5], Step: [401/625], Validation Acc: 48.2\n",
      "Epoch: [1/5], Step: [401/625], Training Loss: 0.9600820541381836\n",
      "Epoch: [1/5], Step: [501/625], Validation Acc: 50.44\n",
      "Epoch: [1/5], Step: [501/625], Training Loss: 1.05705988407135\n",
      "Epoch: [1/5], Step: [601/625], Validation Acc: 49.42\n",
      "Epoch: [1/5], Step: [601/625], Training Loss: 0.9790533781051636\n",
      "Epoch: [2/5], Step: [101/625], Validation Acc: 52.52\n",
      "Epoch: [2/5], Step: [101/625], Training Loss: 1.04009211063385\n",
      "Epoch: [2/5], Step: [201/625], Validation Acc: 52.76\n",
      "Epoch: [2/5], Step: [201/625], Training Loss: 0.9470536708831787\n",
      "Epoch: [2/5], Step: [301/625], Validation Acc: 52.82\n",
      "Epoch: [2/5], Step: [301/625], Training Loss: 0.853695273399353\n",
      "Epoch: [2/5], Step: [401/625], Validation Acc: 53.9\n",
      "Epoch: [2/5], Step: [401/625], Training Loss: 0.881711483001709\n",
      "Epoch: [2/5], Step: [501/625], Validation Acc: 54.72\n",
      "Epoch: [2/5], Step: [501/625], Training Loss: 1.026768445968628\n",
      "Epoch: [2/5], Step: [601/625], Validation Acc: 54.68\n",
      "Epoch: [2/5], Step: [601/625], Training Loss: 1.002244472503662\n",
      "Epoch: [3/5], Step: [101/625], Validation Acc: 55.22\n",
      "Epoch: [3/5], Step: [101/625], Training Loss: 0.9246688485145569\n",
      "Epoch: [3/5], Step: [201/625], Validation Acc: 55.82\n",
      "Epoch: [3/5], Step: [201/625], Training Loss: 0.9069051742553711\n",
      "Epoch: [3/5], Step: [301/625], Validation Acc: 56.26\n",
      "Epoch: [3/5], Step: [301/625], Training Loss: 0.690734326839447\n",
      "Epoch: [3/5], Step: [401/625], Validation Acc: 55.56\n",
      "Epoch: [3/5], Step: [401/625], Training Loss: 0.863939642906189\n",
      "Epoch: [3/5], Step: [501/625], Validation Acc: 57.7\n",
      "Epoch: [3/5], Step: [501/625], Training Loss: 1.0310035943984985\n",
      "Epoch: [3/5], Step: [601/625], Validation Acc: 56.66\n",
      "Epoch: [3/5], Step: [601/625], Training Loss: 0.9951330423355103\n",
      "Epoch: [4/5], Step: [101/625], Validation Acc: 57.7\n",
      "Epoch: [4/5], Step: [101/625], Training Loss: 1.0128509998321533\n",
      "Epoch: [4/5], Step: [201/625], Validation Acc: 57.74\n",
      "Epoch: [4/5], Step: [201/625], Training Loss: 0.8516920804977417\n",
      "Epoch: [4/5], Step: [301/625], Validation Acc: 57.26\n",
      "Epoch: [4/5], Step: [301/625], Training Loss: 0.6485910415649414\n",
      "Epoch: [4/5], Step: [401/625], Validation Acc: 57.3\n",
      "Epoch: [4/5], Step: [401/625], Training Loss: 0.8722822070121765\n",
      "Epoch: [4/5], Step: [501/625], Validation Acc: 58.04\n",
      "Epoch: [4/5], Step: [501/625], Training Loss: 0.9390288591384888\n",
      "Epoch: [4/5], Step: [601/625], Validation Acc: 57.94\n",
      "Epoch: [4/5], Step: [601/625], Training Loss: 0.9720426797866821\n",
      "Epoch: [5/5], Step: [101/625], Validation Acc: 58.28\n",
      "Epoch: [5/5], Step: [101/625], Training Loss: 0.9425165057182312\n",
      "Epoch: [5/5], Step: [201/625], Validation Acc: 57.92\n",
      "Epoch: [5/5], Step: [201/625], Training Loss: 0.8417860865592957\n",
      "Epoch: [5/5], Step: [301/625], Validation Acc: 58.12\n",
      "Epoch: [5/5], Step: [301/625], Training Loss: 0.6245145797729492\n",
      "Epoch: [5/5], Step: [401/625], Validation Acc: 57.84\n",
      "Epoch: [5/5], Step: [401/625], Training Loss: 0.9241294860839844\n",
      "Epoch: [5/5], Step: [501/625], Validation Acc: 58.82\n",
      "Epoch: [5/5], Step: [501/625], Training Loss: 0.9490196108818054\n",
      "Epoch: [5/5], Step: [601/625], Validation Acc: 58.56\n",
      "Epoch: [5/5], Step: [601/625], Training Loss: 0.9402651786804199\n"
     ]
    }
   ],
   "source": [
    "model = TwoSentenceModel(emb_size = 300, hidden_size=250, num_layers=1, num_classes=3)\n",
    "train_model(model)"
   ]
  },
  {
   "cell_type": "code",
   "execution_count": 120,
   "metadata": {},
   "outputs": [
    {
     "ename": "TypeError",
     "evalue": "forward() got an unexpected keyword argument 'lengths'",
     "output_type": "error",
     "traceback": [
      "\u001b[0;31m---------------------------------------------------------------------------\u001b[0m",
      "\u001b[0;31mTypeError\u001b[0m                                 Traceback (most recent call last)",
      "\u001b[0;32m<ipython-input-120-7e0ce24a816a>\u001b[0m in \u001b[0;36m<module>\u001b[0;34m()\u001b[0m\n\u001b[1;32m      4\u001b[0m \u001b[0;34m\u001b[0m\u001b[0m\n\u001b[1;32m      5\u001b[0m \u001b[0mindices_data\u001b[0m \u001b[0;34m=\u001b[0m \u001b[0mtorch\u001b[0m\u001b[0;34m.\u001b[0m\u001b[0mfrom_numpy\u001b[0m\u001b[0;34m(\u001b[0m\u001b[0mnp\u001b[0m\u001b[0;34m.\u001b[0m\u001b[0marray\u001b[0m\u001b[0;34m(\u001b[0m\u001b[0mtoken2index_dataset\u001b[0m\u001b[0;34m(\u001b[0m\u001b[0msample_token_data\u001b[0m\u001b[0;34m)\u001b[0m\u001b[0;34m)\u001b[0m\u001b[0;34m)\u001b[0m\u001b[0;34m\u001b[0m\u001b[0m\n\u001b[0;32m----> 6\u001b[0;31m \u001b[0mmodel\u001b[0m\u001b[0;34m.\u001b[0m\u001b[0mforward\u001b[0m\u001b[0;34m(\u001b[0m\u001b[0mindices_data\u001b[0m\u001b[0;34m,\u001b[0m \u001b[0mlengths\u001b[0m \u001b[0;34m=\u001b[0m \u001b[0mtorch\u001b[0m\u001b[0;34m.\u001b[0m\u001b[0mfrom_numpy\u001b[0m\u001b[0;34m(\u001b[0m\u001b[0mnp\u001b[0m\u001b[0;34m.\u001b[0m\u001b[0marray\u001b[0m\u001b[0;34m(\u001b[0m\u001b[0;34m[\u001b[0m\u001b[0;36m7\u001b[0m\u001b[0;34m,\u001b[0m \u001b[0;36m7\u001b[0m\u001b[0;34m]\u001b[0m\u001b[0;34m)\u001b[0m\u001b[0;34m)\u001b[0m\u001b[0;34m)\u001b[0m\u001b[0;34m\u001b[0m\u001b[0m\n\u001b[0m",
      "\u001b[0;31mTypeError\u001b[0m: forward() got an unexpected keyword argument 'lengths'"
     ]
    }
   ],
   "source": [
    "sample_sent1 = ['How', \"are\", \"you\", \"doing\", \"my\", \"main\", \"man\"]\n",
    "sample_sent2 = ['I', \"am\", \"building\", \"a\", \"bruh\", \"hehe\", \"classifier\"]\n",
    "sample_token_data = [sample_sent1, sample_sent2]\n",
    "\n",
    "indices_data = torch.from_numpy(np.array(token2index_dataset(sample_token_data)))\n",
    "model.forward(indices_data, lengths = torch.from_numpy(np.array([7, 7])))"
   ]
  },
  {
   "cell_type": "code",
   "execution_count": null,
   "metadata": {},
   "outputs": [],
   "source": [
    "sample_sent1 = ['How', \"are\", \"you\", \"doing\", \"my\", \"main\", \"man\", \"pad\"]\n",
    "sample_sent2 = ['I', \"am\", \"building\", \"a\", \"bruh\", \"hehe\", \"classifier\"]\n",
    "\n",
    "sample_sent3 = ['How', \"are\", \"you\", \"doing\", \"my\", \"main\", \"man\", \"pad\"]\n",
    "sample_sent4 = ['I', \"am\", \"building\", \"a\", \"bruh\", \"hehe\", \"classifier\"]\n",
    "\n",
    "sample_sent5 = ['How', \"are\", \"you\", \"doing\", \"my\", \"main\", \"man\", \"pad\"]\n",
    "sample_sent6 = ['I', \"am\", \"building\", \"a\", \"bruh\", \"hehe\", \"classifier\"]\n",
    "\n",
    "sample_combined_list = []\n",
    "sample_combined_list.append([sample_sent1, sample_sent2])\n",
    "sample_combined_list.append([sample_sent3, sample_sent4])\n",
    "sample_combined_list.append([sample_sent5, sample_sent6])\n",
    "\n",
    "\n",
    "np.array(sample_combined_list).shape"
   ]
  },
  {
   "cell_type": "code",
   "execution_count": null,
   "metadata": {},
   "outputs": [],
   "source": [
    "for i, (data, sent1_lengths, sent2_lengths, labels) in enumerate(train_loader):\n",
    "    print(\"DATA\\n\")\n",
    "    print(data.size())\n",
    "    print (data)\n",
    "    print(sent1_lengths)\n",
    "    print(sent2_lengths)\n",
    "    print (labels)\n",
    "    break"
   ]
  },
  {
   "cell_type": "code",
   "execution_count": null,
   "metadata": {},
   "outputs": [],
   "source": []
  },
  {
   "cell_type": "code",
   "execution_count": null,
   "metadata": {},
   "outputs": [],
   "source": [
    "###\n",
    "### Initialize unk vector to * 0.01 and 0.001.  \n",
    "###\n",
    "\n",
    "###\n",
    "### Sort descending before doing pack_padded_sequence\n",
    "###\n",
    "\n",
    "###\n",
    "### Sort all training sentences by descending order. \n",
    "### Feed it into the batch. \n",
    "### Run your model through each of them to get hidden outputs\n",
    "### Match them back again to right order to calculate loss. \n",
    "###\n",
    "\n",
    "###\n",
    "### Freeze the embedding matrix weights so they don't train. \n",
    "###"
   ]
  },
  {
   "cell_type": "code",
   "execution_count": null,
   "metadata": {},
   "outputs": [],
   "source": []
  }
 ],
 "metadata": {
  "kernelspec": {
   "display_name": "Python 3",
   "language": "python",
   "name": "python3"
  },
  "language_info": {
   "codemirror_mode": {
    "name": "ipython",
    "version": 3
   },
   "file_extension": ".py",
   "mimetype": "text/x-python",
   "name": "python",
   "nbconvert_exporter": "python",
   "pygments_lexer": "ipython3",
   "version": "3.6.6"
  }
 },
 "nbformat": 4,
 "nbformat_minor": 2
}
