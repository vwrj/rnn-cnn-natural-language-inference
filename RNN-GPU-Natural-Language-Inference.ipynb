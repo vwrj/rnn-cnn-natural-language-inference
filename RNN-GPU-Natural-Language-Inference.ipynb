{
 "cells": [
  {
   "cell_type": "code",
   "execution_count": 3,
   "metadata": {},
   "outputs": [],
   "source": [
    "import numpy as np\n",
    "import torch\n",
    "import torch.nn as nn\n",
    "import torch.nn.functional as F\n",
    "from torch.utils.data import Dataset\n",
    "from collections import Counter\n",
    "import pickle as pkl\n",
    "import random\n",
    "import pdb\n",
    "import io\n",
    "import nltk\n",
    "from nltk.tokenize import sent_tokenize, word_tokenize\n",
    "import pandas as pd\n",
    "import pdb\n",
    "\n",
    "BATCH_SIZE = 32"
   ]
  },
  {
   "cell_type": "code",
   "execution_count": 4,
   "metadata": {},
   "outputs": [
    {
     "name": "stdout",
     "output_type": "stream",
     "text": [
      "cuda:0\n"
     ]
    }
   ],
   "source": [
    "device = torch.device(\"cuda:0\")\n",
    "print(device)"
   ]
  },
  {
   "cell_type": "markdown",
   "metadata": {},
   "source": [
    "### Helper functions for each step in the pipeline"
   ]
  },
  {
   "cell_type": "code",
   "execution_count": 5,
   "metadata": {},
   "outputs": [],
   "source": [
    "def load_vectors(fname):\n",
    "    fin = io.open(fname, 'r', encoding='utf-8', newline='\\n', errors='ignore')\n",
    "    n, d = map(int, fin.readline().split())\n",
    "    data = {}\n",
    "    print(n, d)\n",
    "    i = 0\n",
    "    for line in fin:\n",
    "        if i == VOCAB_SIZE:\n",
    "            break\n",
    "        tokens = line.rstrip().split(' ')\n",
    "        data[tokens[0]] = np.array(list(map(float, tokens[1:])))\n",
    "        i += 1\n",
    "    return data"
   ]
  },
  {
   "cell_type": "code",
   "execution_count": 6,
   "metadata": {},
   "outputs": [],
   "source": [
    "from collections import Counter\n",
    "# save index 0 for unk and 1 for pad\n",
    "PAD_IDX = 0\n",
    "UNK_IDX = 1\n",
    "VOCAB_SIZE = 50000\n",
    "\n",
    "def build_vocab():\n",
    "    # Returns:\n",
    "    # id2token: list of tokens, where id2token[i] returns token that corresponds to token i\n",
    "    # token2id: dictionary where keys represent tokens and corresponding values represent indices\n",
    "    word_vectors = pkl.load(open(\"fasttext_word_vectors.p\", \"rb\"))\n",
    "    id2token = list(word_vectors.keys())\n",
    "    token2id = dict(zip(word_vectors, range(2,2+len(word_vectors)))) \n",
    "    id2token = ['<pad>', '<unk>'] + id2token\n",
    "    token2id['<pad>'] = PAD_IDX \n",
    "    token2id['<unk>'] = UNK_IDX\n",
    "    return word_vectors, token2id, id2token"
   ]
  },
  {
   "cell_type": "code",
   "execution_count": 7,
   "metadata": {},
   "outputs": [],
   "source": [
    "def convert_labels_to_integers(data_label):\n",
    "    for i in range(len(data_label)):\n",
    "        if data_label[i] == \"contradiction\":\n",
    "            data_label[i] = 0\n",
    "        elif data_label[i] == \"entailment\":\n",
    "            data_label[i] = 1\n",
    "        elif data_label[i] == \"neutral\":\n",
    "            data_label[i] = 2\n",
    "    return data_label"
   ]
  },
  {
   "cell_type": "code",
   "execution_count": 8,
   "metadata": {},
   "outputs": [],
   "source": [
    "def verify_order(sent1_data, sent2_data, data_label):\n",
    "    i = random.randint(1, len(sent1_data))\n",
    "    print(sent1_data[i])\n",
    "    print(sent2_data[i])\n",
    "    print(data_label[i])"
   ]
  },
  {
   "cell_type": "code",
   "execution_count": 9,
   "metadata": {},
   "outputs": [],
   "source": [
    "# Word tokenize each entry in a list of sentences\n",
    "def tokenize(sentence_list):\n",
    "    return [word_tokenize(sentence_list[i]) for i in range(len(sentence_list))]"
   ]
  },
  {
   "cell_type": "code",
   "execution_count": 10,
   "metadata": {},
   "outputs": [],
   "source": [
    "# \"one-hot encode\": convert each token to id in vocabulary vector (token2id)\n",
    "def token2index_dataset(tokens_data):\n",
    "    indices_data = []\n",
    "    for tokens in tokens_data:\n",
    "        index_list = [token2id[token] if token in token2id else UNK_IDX for token in tokens]\n",
    "        indices_data.append(index_list)\n",
    "    return indices_data "
   ]
  },
  {
   "cell_type": "markdown",
   "metadata": {},
   "source": [
    "### Creating vocabulary & embedding matrix from FastText"
   ]
  },
  {
   "cell_type": "code",
   "execution_count": 11,
   "metadata": {},
   "outputs": [],
   "source": [
    "word_vectors, token2id, id2token = build_vocab()"
   ]
  },
  {
   "cell_type": "code",
   "execution_count": 12,
   "metadata": {},
   "outputs": [
    {
     "data": {
      "text/plain": [
       "(50002, 300)"
      ]
     },
     "execution_count": 12,
     "metadata": {},
     "output_type": "execute_result"
    }
   ],
   "source": [
    "_weights = np.array(list(word_vectors.values()))\n",
    "pad_vec = np.zeros((1, 300))\n",
    "unk_vec = np.random.randn(1, 300) * 0.01\n",
    "pad_unk_vecs = np.vstack((pad_vec, unk_vec))\n",
    "_WEIGHTS = np.vstack((pad_unk_vecs, _weights))\n",
    "_WEIGHTS.shape"
   ]
  },
  {
   "cell_type": "markdown",
   "metadata": {},
   "source": [
    "### Function to pre-process data for TwoSentenceModel\n",
    "#### Shuffle, word tokenize, one-hot index into vocabulary"
   ]
  },
  {
   "cell_type": "code",
   "execution_count": 13,
   "metadata": {},
   "outputs": [],
   "source": [
    "def data_pipeline(sent1s, sent2s, labels, verify=True):\n",
    "    labels = convert_labels_to_integers(labels)\n",
    "    seed = random.randint(1, 100)\n",
    "    print(\"Random seed for shuffling: {}\".format(seed))\n",
    "    random.Random(seed).shuffle(sent1s)\n",
    "    random.Random(seed).shuffle(sent2s)\n",
    "    random.Random(seed).shuffle(labels)\n",
    "    \n",
    "    print(\"\\nVerifying that the data and label match after shuffling\")\n",
    "    if verify:\n",
    "        verify_order(sent1s, sent2s, labels)\n",
    "        verify_order(sent1s, sent2s, labels)\n",
    "          \n",
    "    print(\"\\nTokenizing sentence 1 list...\")    \n",
    "    sent1s_tokenized = tokenize(sent1s)\n",
    "    print(\"done!\")\n",
    "    print(\"\\nTokenizing sentence 2 list... \")  \n",
    "    sent2s_tokenized = tokenize(sent2s)\n",
    "    print(\"done!\")\n",
    "    \n",
    "    print(\"\\nOne-hot encoding words for sentence 1 list...\")  \n",
    "    sent1s_indices = token2index_dataset(sent1s_tokenized)\n",
    "    print(\"done!\")\n",
    "    print(\"\\nOne-hot encoding words for sentence 2 list...\")  \n",
    "    sent2s_indices = token2index_dataset(sent2s_tokenized)\n",
    "    print(\"done!\")\n",
    "    \n",
    "    return (sent1s_indices, sent2s_indices, labels)"
   ]
  },
  {
   "cell_type": "markdown",
   "metadata": {},
   "source": [
    "### DataLoader"
   ]
  },
  {
   "cell_type": "code",
   "execution_count": 14,
   "metadata": {},
   "outputs": [],
   "source": [
    "# MAX_SENTENCE_LENGTH = 30\n",
    "\n",
    "import numpy as np\n",
    "import torch\n",
    "from torch.utils.data import Dataset\n",
    "\n",
    "class TwoSentencesDataset(Dataset):\n",
    "    \"\"\"\n",
    "    Class that represents a train/validation/test dataset that's readable for PyTorch\n",
    "    \"\"\"\n",
    "    \n",
    "    def __init__(self, sent1_data_list, sent2_data_list, target_list):\n",
    "        \"\"\"\n",
    "        @param sent1_data_list: list of sentence1's (index matches sentence2's and target_list below)\n",
    "        @param sent2_data_list: list of sentence2's\n",
    "        @param target_list: list of correct labels\n",
    "\n",
    "        \"\"\"\n",
    "        self.sent1_data_list = sent1_data_list\n",
    "        self.sent2_data_list = sent2_data_list\n",
    "        self.target_list = target_list\n",
    "        assert (len(self.sent1_data_list) == len(self.target_list) and len(self.sent2_data_list) == len(self.target_list))\n",
    "\n",
    "    def __len__(self):\n",
    "        return len(self.sent1_data_list)\n",
    "        \n",
    "    def __getitem__(self, key):\n",
    "        ###\n",
    "        ### Returns [[sentence, 1, tokens], [sentence, 2, tokens]]\n",
    "        ###\n",
    "        \"\"\"\n",
    "        Triggered when you call dataset[i]\n",
    "        \"\"\"\n",
    "        sent1_tokens_idx = self.sent1_data_list[key][:MAX_SENTENCE_LENGTH]\n",
    "        sent2_tokens_idx = self.sent2_data_list[key][:MAX_SENTENCE_LENGTH]\n",
    "        combined_tokens_idx = [sent1_tokens_idx, sent2_tokens_idx]\n",
    "        label = self.target_list[key]\n",
    "        return [combined_tokens_idx, len(sent1_tokens_idx), len(sent2_tokens_idx), label]\n",
    "\n",
    "def twosentences_collate_func(batch):\n",
    "    \"\"\"\n",
    "    Customized function for DataLoader that dynamically pads the batch so that all \n",
    "    data have the same length\n",
    "    \"\"\"\n",
    "    sent1_data_list = []\n",
    "    sent2_data_list = []\n",
    "    sent1_length_list = []\n",
    "    sent2_length_list = []\n",
    "    label_list = []\n",
    "    combined_data_list = []\n",
    "    #print(\"collate batch: \", batch[0][0])\n",
    "    #batch[0][0] = batch[0][0][:MAX_SENTENCE_LENGTH]\n",
    "    for datum in batch:\n",
    "        label_list.append(datum[3])\n",
    "        sent1_length_list.append(datum[1])\n",
    "        sent2_length_list.append(datum[2])\n",
    "    # padding\n",
    "    for datum in batch:\n",
    "        padded_vec_1 = np.pad(np.array(datum[0][0]), pad_width=((0,MAX_SENTENCE_LENGTH-datum[1])), \n",
    "                                mode=\"constant\", constant_values=0)\n",
    "        padded_vec_2 = np.pad(np.array(datum[0][1]), pad_width=((0,MAX_SENTENCE_LENGTH-datum[2])), \n",
    "                                mode=\"constant\", constant_values=0)\n",
    "        combined_data_list.append([padded_vec_1, padded_vec_2])\n",
    "    return [torch.from_numpy(np.array(combined_data_list)), \n",
    "            torch.LongTensor(sent1_length_list), torch.LongTensor(sent2_length_list), torch.LongTensor(label_list)]"
   ]
  },
  {
   "cell_type": "markdown",
   "metadata": {},
   "source": [
    "### Train dataset creation"
   ]
  },
  {
   "cell_type": "code",
   "execution_count": 15,
   "metadata": {},
   "outputs": [
    {
     "name": "stdout",
     "output_type": "stream",
     "text": [
      "Size of training data: 50000\n"
     ]
    }
   ],
   "source": [
    "snli_train = pd.read_csv('snli_train.tsv', sep='\\t')\n",
    "TRAIN_SIZE = 50000\n",
    "\n",
    "sent1_data = list(snli_train[\"sentence1\"])[:TRAIN_SIZE]\n",
    "sent2_data = list(snli_train[\"sentence2\"])[:TRAIN_SIZE]\n",
    "data_label = list(snli_train[\"label\"])[:TRAIN_SIZE]\n",
    "print(\"Size of training data: {}\".format(len(sent1_data)))"
   ]
  },
  {
   "cell_type": "code",
   "execution_count": 16,
   "metadata": {},
   "outputs": [
    {
     "name": "stdout",
     "output_type": "stream",
     "text": [
      "Random seed for shuffling: 86\n",
      "\n",
      "Verifying that the data and label match after shuffling\n",
      "A person on their knees looking for something .\n",
      "A person lost their keys and are looking for it .\n",
      "2\n",
      "We see the side-view of a hispanic lady sitting down at a table and sewing .\n",
      "A woman sews .\n",
      "1\n",
      "\n",
      "Tokenizing sentence 1 list...\n",
      "done!\n",
      "\n",
      "Tokenizing sentence 2 list... \n",
      "done!\n",
      "\n",
      "One-hot encoding words for sentence 1 list...\n",
      "done!\n",
      "\n",
      "One-hot encoding words for sentence 2 list...\n",
      "done!\n",
      "Finished creating train_loader.\n"
     ]
    }
   ],
   "source": [
    "sent1_train_indices, sent2_train_indices, train_label = data_pipeline(sent1_data, sent2_data, data_label)\n",
    "train_dataset = TwoSentencesDataset(sent1_train_indices, sent2_train_indices, train_label)\n",
    "train_loader = torch.utils.data.DataLoader(dataset=train_dataset, \n",
    "                                           batch_size=BATCH_SIZE, \n",
    "                                           collate_fn=twosentences_collate_func,\n",
    "                                           #shuffle=True\n",
    "                                          )\n",
    "print(\"Finished creating train_loader.\")"
   ]
  },
  {
   "cell_type": "markdown",
   "metadata": {},
   "source": [
    "### Val dataset creation"
   ]
  },
  {
   "cell_type": "code",
   "execution_count": 17,
   "metadata": {},
   "outputs": [
    {
     "name": "stdout",
     "output_type": "stream",
     "text": [
      "Size of val data: 1000\n"
     ]
    }
   ],
   "source": [
    "snli_val = pd.read_csv('snli_val.tsv', sep='\\t')\n",
    "sent1_val = list(snli_val[\"sentence1\"])\n",
    "sent2_val = list(snli_val[\"sentence2\"])\n",
    "val_label = list(snli_val[\"label\"])\n",
    "print(\"Size of val data: {}\".format(len(sent1_val)))"
   ]
  },
  {
   "cell_type": "code",
   "execution_count": 18,
   "metadata": {},
   "outputs": [
    {
     "name": "stdout",
     "output_type": "stream",
     "text": [
      "Random seed for shuffling: 44\n",
      "\n",
      "Verifying that the data and label match after shuffling\n",
      "Old man with gray blanket on squatting against a wall\n",
      "Old man squats against a wall .\n",
      "1\n",
      "A street scene of people on scooters .\n",
      "There are multiple people present .\n",
      "1\n",
      "\n",
      "Tokenizing sentence 1 list...\n",
      "done!\n",
      "\n",
      "Tokenizing sentence 2 list... \n",
      "done!\n",
      "\n",
      "One-hot encoding words for sentence 1 list...\n",
      "done!\n",
      "\n",
      "One-hot encoding words for sentence 2 list...\n",
      "done!\n"
     ]
    }
   ],
   "source": [
    "sent1_val_indices, sent2_val_indices, val_label = data_pipeline(sent1_val, sent2_val, val_label)\n",
    "val_dataset = TwoSentencesDataset(sent1_val_indices, sent2_val_indices, val_label)\n",
    "val_loader = torch.utils.data.DataLoader(dataset=val_dataset, \n",
    "                                           batch_size=BATCH_SIZE, \n",
    "                                           collate_fn=twosentences_collate_func,\n",
    "                                           #shuffle=True\n",
    "                                          )"
   ]
  },
  {
   "cell_type": "code",
   "execution_count": 19,
   "metadata": {},
   "outputs": [],
   "source": [
    "pd.Series([len(x) for x in snli_train['sentence1']]).describe()['75%']\n",
    "MAX_SENTENCE_LENGTH = 40"
   ]
  },
  {
   "cell_type": "markdown",
   "metadata": {},
   "source": [
    "### The Model"
   ]
  },
  {
   "cell_type": "code",
   "execution_count": 26,
   "metadata": {},
   "outputs": [],
   "source": [
    "class TwoSentenceModel(nn.Module):\n",
    "    def __init__(self, hidden_size, num_layers, num_classes, emb_size = 300):\n",
    "        # RNN Accepts the following hyperparams:\n",
    "        # emb_size: Embedding Size\n",
    "        # hidden_size: Hidden Size of layer in RNN\n",
    "        # num_layers: number of layers in RNN\n",
    "        # num_classes: number of output classes\n",
    "        # vocab_size: vocabulary size\n",
    "        super(TwoSentenceModel, self).__init__()\n",
    "\n",
    "        self.num_layers, self.hidden_size = num_layers, hidden_size\n",
    "        weight = torch.FloatTensor(_WEIGHTS)\n",
    "        self.embedding = nn.Embedding.from_pretrained(weight)\n",
    "#         self.rnn = nn.RNN(emb_size, hidden_size, num_layers, batch_first=True)\n",
    "#         self.linear = nn.Linear(2*hidden_size, num_classes)\n",
    "        # TRYING GRU, UNCOMMENT Below if doing GRU\n",
    "        self.rnn = nn.GRU(emb_size, hidden_size, num_layers, batch_first=True, bidirectional=True)\n",
    "        self.linear1 = nn.Linear(4*hidden_size, 100)\n",
    "        self.linear2 = nn.Linear(100, num_classes)\n",
    "\n",
    "    def init_hidden(self, batch_size):\n",
    "        # Function initializes the activation of recurrent neural net at timestep 0\n",
    "        # Needs to be in format (num_layers, batch_size, hidden_size)\n",
    "        return torch.randn(2, batch_size*2, self.hidden_size).to(device)\n",
    "\n",
    "    def forward(self, x, sent1_lengths, sent2_lengths):\n",
    "        # reset hidden state\n",
    "        batch_size = x.size()[0]\n",
    "                \n",
    "        s1lengths = list(sent1_lengths)\n",
    "        s2lengths = list(sent2_lengths)\n",
    "        ordered_slengths = s1lengths + s2lengths\n",
    "\n",
    "        reverse_sorted_indices = [x for _, x in sorted(zip(ordered_slengths, range(len(ordered_slengths))), reverse=True)]\n",
    "        reverse_sorted_lengths = [x for x, _ in sorted(zip(ordered_slengths, range(len(ordered_slengths))), reverse=True)]\n",
    "        reverse_sorted_lengths = np.array(reverse_sorted_lengths)\n",
    "        \n",
    "        sent1s = x[:, 0, :]\n",
    "        sent2s = x[:, 1, :]\n",
    "        ordered_sents = torch.cat([sent1s, sent2s], dim=0).to(device)\n",
    "        reverse_sorted_data = torch.index_select(ordered_sents, 0, torch.tensor(reverse_sorted_indices).to(device))\n",
    "        \n",
    "        # get embedding\n",
    "        embed = self.embedding(reverse_sorted_data)\n",
    "        \n",
    "        self.hidden = self.init_hidden(batch_size)\n",
    "\n",
    "        # pack padded sequence\n",
    "        embed = torch.nn.utils.rnn.pack_padded_sequence(embed, reverse_sorted_lengths, batch_first=True)\n",
    "              \n",
    "        # fprop though RNN\n",
    "        rnn_out, self.hidden = self.rnn(embed, self.hidden)\n",
    "                \n",
    "        ### MATCHING BACK\n",
    "        change_it_back = [x for _, x in sorted(zip(reverse_sorted_indices, range(len(reverse_sorted_indices))))]\n",
    "        self.hidden = torch.index_select(self.hidden, 1, torch.LongTensor(change_it_back).to(device)) \n",
    "        \n",
    "        # 2 by 64 by 250. back in the right order that it came in.        \n",
    "#         hidden_sent1s = self.hidden[0, 0:batch_size, :]\n",
    "#         hidden_sent2s = self.hidden[0, batch_size:, :]\n",
    "              \n",
    "        ### GRU stuff\n",
    "        hidden_sent1s = torch.cat([self.hidden[0, 0:batch_size, :], self.hidden[1, 0:batch_size, :]], dim=1)\n",
    "        hidden_sent2s = torch.cat([self.hidden[0, batch_size:, :], self.hidden[1, batch_size:, :]], dim=1)\n",
    "        \n",
    "        linear1 = self.linear1(torch.cat([hidden_sent1s, hidden_sent2s], dim=1))\n",
    "        linear1 = F.relu(linear1.contiguous().view(-1, linear1.size(-1))).view(linear1.shape)          \n",
    "        logits = self.linear2(linear1)\n",
    "        return logits"
   ]
  },
  {
   "cell_type": "code",
   "execution_count": 29,
   "metadata": {},
   "outputs": [],
   "source": [
    "# Function for testing the model\n",
    "def test_model(loader, model):\n",
    "    \"\"\"\n",
    "    Helper function that tests the model's performance on a dataset\n",
    "    \"\"\"\n",
    "    correct = 0\n",
    "    total = 0\n",
    "    model.eval()\n",
    "    for (data, sent1_lengths, sent2_lengths, labels) in loader:\n",
    "        data_batch, sent1_length_batch, sent2_length_batch, label_batch = data.to(device), sent1_lengths.to(device), sent2_lengths.to(device), labels.to(device)\n",
    "        outputs = F.softmax(model(data_batch, sent1_length_batch, sent2_length_batch), dim=1)\n",
    "        predicted = outputs.max(1, keepdim=True)[1]\n",
    "        labels = labels.to(device)\n",
    "        total += labels.size(0)\n",
    "        correct += predicted.eq(labels.view_as(predicted)).sum().item()\n",
    "    return (100 * correct / total)\n",
    "\n",
    "def train_model(model, lr = 0.001, num_epochs = 5, criterion = nn.CrossEntropyLoss()):\n",
    "    optimizer = torch.optim.Adam(model.parameters(), lr=lr) \n",
    "\n",
    "    for epoch in range(num_epochs):\n",
    "        for i, (data, sent1_lengths, sent2_lengths, labels) in enumerate(train_loader):\n",
    "            model.train()\n",
    "            data_batch, sent1_length_batch, sent2_length_batch, label_batch = data.to(device), sent1_lengths.to(device), sent2_lengths.to(device), labels.to(device)\n",
    "            optimizer.zero_grad()\n",
    "            outputs = model(data_batch, sent1_length_batch, sent2_length_batch)\n",
    "            loss = criterion(outputs, label_batch)\n",
    "            \n",
    "            loss.backward()\n",
    "            optimizer.step()\n",
    "            # validate every 100 iterations\n",
    "            if i > 0 and i % 100 == 0:\n",
    "                # validate\n",
    "                val_acc = test_model(val_loader, model)\n",
    "                print('Epoch: [{}/{}], Step: [{}/{}], Validation Acc: {}'.format( \n",
    "                           epoch+1, num_epochs, i+1, len(train_loader), val_acc))\n",
    "                print('Epoch: [{}/{}], Step: [{}/{}], Training Loss: {}'.format( \n",
    "                           epoch+1, num_epochs, i+1, len(train_loader), loss))"
   ]
  },
  {
   "cell_type": "code",
   "execution_count": 30,
   "metadata": {},
   "outputs": [
    {
     "name": "stdout",
     "output_type": "stream",
     "text": [
      "Epoch: [1/5], Step: [101/1563], Validation Acc: 37.4\n",
      "Epoch: [1/5], Step: [101/1563], Training Loss: 1.0683670043945312\n",
      "Epoch: [1/5], Step: [201/1563], Validation Acc: 42.8\n",
      "Epoch: [1/5], Step: [201/1563], Training Loss: 1.0976486206054688\n",
      "Epoch: [1/5], Step: [301/1563], Validation Acc: 45.2\n",
      "Epoch: [1/5], Step: [301/1563], Training Loss: 1.1639070510864258\n",
      "Epoch: [1/5], Step: [401/1563], Validation Acc: 46.5\n",
      "Epoch: [1/5], Step: [401/1563], Training Loss: 1.0621092319488525\n",
      "Epoch: [1/5], Step: [501/1563], Validation Acc: 49.4\n",
      "Epoch: [1/5], Step: [501/1563], Training Loss: 1.098649501800537\n",
      "Epoch: [1/5], Step: [601/1563], Validation Acc: 51.6\n",
      "Epoch: [1/5], Step: [601/1563], Training Loss: 1.0662527084350586\n",
      "Epoch: [1/5], Step: [701/1563], Validation Acc: 47.9\n",
      "Epoch: [1/5], Step: [701/1563], Training Loss: 1.0055855512619019\n",
      "Epoch: [1/5], Step: [801/1563], Validation Acc: 51.3\n",
      "Epoch: [1/5], Step: [801/1563], Training Loss: 0.9409419894218445\n",
      "Epoch: [1/5], Step: [901/1563], Validation Acc: 52.7\n",
      "Epoch: [1/5], Step: [901/1563], Training Loss: 0.935234010219574\n",
      "Epoch: [1/5], Step: [1001/1563], Validation Acc: 52.1\n",
      "Epoch: [1/5], Step: [1001/1563], Training Loss: 0.9656083583831787\n",
      "Epoch: [1/5], Step: [1101/1563], Validation Acc: 52.1\n",
      "Epoch: [1/5], Step: [1101/1563], Training Loss: 1.1446915864944458\n",
      "Epoch: [1/5], Step: [1201/1563], Validation Acc: 56.1\n",
      "Epoch: [1/5], Step: [1201/1563], Training Loss: 0.8301801085472107\n",
      "Epoch: [1/5], Step: [1301/1563], Validation Acc: 55.9\n",
      "Epoch: [1/5], Step: [1301/1563], Training Loss: 1.0784986019134521\n",
      "Epoch: [1/5], Step: [1401/1563], Validation Acc: 55.1\n",
      "Epoch: [1/5], Step: [1401/1563], Training Loss: 1.064285397529602\n",
      "Epoch: [1/5], Step: [1501/1563], Validation Acc: 55.0\n",
      "Epoch: [1/5], Step: [1501/1563], Training Loss: 1.0309900045394897\n",
      "Epoch: [2/5], Step: [101/1563], Validation Acc: 56.7\n",
      "Epoch: [2/5], Step: [101/1563], Training Loss: 0.821380615234375\n",
      "Epoch: [2/5], Step: [201/1563], Validation Acc: 55.6\n",
      "Epoch: [2/5], Step: [201/1563], Training Loss: 0.9458940625190735\n",
      "Epoch: [2/5], Step: [301/1563], Validation Acc: 57.7\n",
      "Epoch: [2/5], Step: [301/1563], Training Loss: 0.872350811958313\n",
      "Epoch: [2/5], Step: [401/1563], Validation Acc: 57.0\n",
      "Epoch: [2/5], Step: [401/1563], Training Loss: 1.075639009475708\n",
      "Epoch: [2/5], Step: [501/1563], Validation Acc: 59.5\n",
      "Epoch: [2/5], Step: [501/1563], Training Loss: 0.8769046664237976\n",
      "Epoch: [2/5], Step: [601/1563], Validation Acc: 59.2\n",
      "Epoch: [2/5], Step: [601/1563], Training Loss: 0.973639965057373\n",
      "Epoch: [2/5], Step: [701/1563], Validation Acc: 57.2\n",
      "Epoch: [2/5], Step: [701/1563], Training Loss: 0.9188552498817444\n",
      "Epoch: [2/5], Step: [801/1563], Validation Acc: 58.0\n",
      "Epoch: [2/5], Step: [801/1563], Training Loss: 0.8003947138786316\n",
      "Epoch: [2/5], Step: [901/1563], Validation Acc: 59.0\n",
      "Epoch: [2/5], Step: [901/1563], Training Loss: 0.8370734453201294\n",
      "Epoch: [2/5], Step: [1001/1563], Validation Acc: 57.7\n",
      "Epoch: [2/5], Step: [1001/1563], Training Loss: 0.7785711288452148\n",
      "Epoch: [2/5], Step: [1101/1563], Validation Acc: 57.7\n",
      "Epoch: [2/5], Step: [1101/1563], Training Loss: 1.071906566619873\n",
      "Epoch: [2/5], Step: [1201/1563], Validation Acc: 58.8\n",
      "Epoch: [2/5], Step: [1201/1563], Training Loss: 0.729749321937561\n",
      "Epoch: [2/5], Step: [1301/1563], Validation Acc: 59.5\n",
      "Epoch: [2/5], Step: [1301/1563], Training Loss: 1.1150578260421753\n",
      "Epoch: [2/5], Step: [1401/1563], Validation Acc: 59.7\n",
      "Epoch: [2/5], Step: [1401/1563], Training Loss: 1.016103744506836\n",
      "Epoch: [2/5], Step: [1501/1563], Validation Acc: 60.1\n",
      "Epoch: [2/5], Step: [1501/1563], Training Loss: 0.9426888823509216\n",
      "Epoch: [3/5], Step: [101/1563], Validation Acc: 59.2\n",
      "Epoch: [3/5], Step: [101/1563], Training Loss: 0.7592711448669434\n",
      "Epoch: [3/5], Step: [201/1563], Validation Acc: 60.0\n",
      "Epoch: [3/5], Step: [201/1563], Training Loss: 0.802873969078064\n",
      "Epoch: [3/5], Step: [301/1563], Validation Acc: 61.8\n",
      "Epoch: [3/5], Step: [301/1563], Training Loss: 0.7180215716362\n",
      "Epoch: [3/5], Step: [401/1563], Validation Acc: 61.3\n",
      "Epoch: [3/5], Step: [401/1563], Training Loss: 0.9478253126144409\n",
      "Epoch: [3/5], Step: [501/1563], Validation Acc: 61.2\n",
      "Epoch: [3/5], Step: [501/1563], Training Loss: 0.8241350054740906\n",
      "Epoch: [3/5], Step: [601/1563], Validation Acc: 61.0\n",
      "Epoch: [3/5], Step: [601/1563], Training Loss: 0.8834925293922424\n",
      "Epoch: [3/5], Step: [701/1563], Validation Acc: 60.8\n",
      "Epoch: [3/5], Step: [701/1563], Training Loss: 0.8783992528915405\n",
      "Epoch: [3/5], Step: [801/1563], Validation Acc: 60.6\n",
      "Epoch: [3/5], Step: [801/1563], Training Loss: 0.7829928994178772\n",
      "Epoch: [3/5], Step: [901/1563], Validation Acc: 60.8\n",
      "Epoch: [3/5], Step: [901/1563], Training Loss: 0.7206506133079529\n",
      "Epoch: [3/5], Step: [1001/1563], Validation Acc: 59.9\n",
      "Epoch: [3/5], Step: [1001/1563], Training Loss: 0.7719962000846863\n",
      "Epoch: [3/5], Step: [1101/1563], Validation Acc: 61.6\n",
      "Epoch: [3/5], Step: [1101/1563], Training Loss: 1.0569452047348022\n",
      "Epoch: [3/5], Step: [1201/1563], Validation Acc: 59.7\n",
      "Epoch: [3/5], Step: [1201/1563], Training Loss: 0.7291426062583923\n",
      "Epoch: [3/5], Step: [1301/1563], Validation Acc: 60.8\n",
      "Epoch: [3/5], Step: [1301/1563], Training Loss: 1.0373587608337402\n",
      "Epoch: [3/5], Step: [1401/1563], Validation Acc: 61.7\n",
      "Epoch: [3/5], Step: [1401/1563], Training Loss: 0.9086939096450806\n",
      "Epoch: [3/5], Step: [1501/1563], Validation Acc: 61.9\n",
      "Epoch: [3/5], Step: [1501/1563], Training Loss: 0.9302456378936768\n",
      "Epoch: [4/5], Step: [101/1563], Validation Acc: 62.3\n",
      "Epoch: [4/5], Step: [101/1563], Training Loss: 0.6888929009437561\n",
      "Epoch: [4/5], Step: [201/1563], Validation Acc: 62.4\n",
      "Epoch: [4/5], Step: [201/1563], Training Loss: 0.7862827777862549\n",
      "Epoch: [4/5], Step: [301/1563], Validation Acc: 63.7\n",
      "Epoch: [4/5], Step: [301/1563], Training Loss: 0.6947484016418457\n",
      "Epoch: [4/5], Step: [401/1563], Validation Acc: 63.0\n",
      "Epoch: [4/5], Step: [401/1563], Training Loss: 0.9573372602462769\n",
      "Epoch: [4/5], Step: [501/1563], Validation Acc: 63.4\n",
      "Epoch: [4/5], Step: [501/1563], Training Loss: 0.7265032529830933\n",
      "Epoch: [4/5], Step: [601/1563], Validation Acc: 63.4\n",
      "Epoch: [4/5], Step: [601/1563], Training Loss: 0.8582610487937927\n",
      "Epoch: [4/5], Step: [701/1563], Validation Acc: 62.7\n",
      "Epoch: [4/5], Step: [701/1563], Training Loss: 0.7774196267127991\n",
      "Epoch: [4/5], Step: [801/1563], Validation Acc: 62.4\n",
      "Epoch: [4/5], Step: [801/1563], Training Loss: 0.7643269300460815\n",
      "Epoch: [4/5], Step: [901/1563], Validation Acc: 61.7\n",
      "Epoch: [4/5], Step: [901/1563], Training Loss: 0.7566021680831909\n",
      "Epoch: [4/5], Step: [1001/1563], Validation Acc: 63.5\n",
      "Epoch: [4/5], Step: [1001/1563], Training Loss: 0.6994098424911499\n",
      "Epoch: [4/5], Step: [1101/1563], Validation Acc: 61.3\n",
      "Epoch: [4/5], Step: [1101/1563], Training Loss: 1.0957943201065063\n",
      "Epoch: [4/5], Step: [1201/1563], Validation Acc: 61.5\n",
      "Epoch: [4/5], Step: [1201/1563], Training Loss: 0.6493334174156189\n",
      "Epoch: [4/5], Step: [1301/1563], Validation Acc: 63.6\n",
      "Epoch: [4/5], Step: [1301/1563], Training Loss: 0.9084264039993286\n",
      "Epoch: [4/5], Step: [1401/1563], Validation Acc: 63.9\n",
      "Epoch: [4/5], Step: [1401/1563], Training Loss: 0.8559991121292114\n",
      "Epoch: [4/5], Step: [1501/1563], Validation Acc: 63.0\n",
      "Epoch: [4/5], Step: [1501/1563], Training Loss: 0.878844678401947\n",
      "Epoch: [5/5], Step: [101/1563], Validation Acc: 63.9\n",
      "Epoch: [5/5], Step: [101/1563], Training Loss: 0.6062801480293274\n",
      "Epoch: [5/5], Step: [201/1563], Validation Acc: 64.5\n",
      "Epoch: [5/5], Step: [201/1563], Training Loss: 0.7812390923500061\n",
      "Epoch: [5/5], Step: [301/1563], Validation Acc: 64.6\n",
      "Epoch: [5/5], Step: [301/1563], Training Loss: 0.6554715633392334\n",
      "Epoch: [5/5], Step: [401/1563], Validation Acc: 63.7\n",
      "Epoch: [5/5], Step: [401/1563], Training Loss: 0.9346829652786255\n",
      "Epoch: [5/5], Step: [501/1563], Validation Acc: 63.4\n",
      "Epoch: [5/5], Step: [501/1563], Training Loss: 0.58351069688797\n",
      "Epoch: [5/5], Step: [601/1563], Validation Acc: 64.2\n",
      "Epoch: [5/5], Step: [601/1563], Training Loss: 0.7759307622909546\n",
      "Epoch: [5/5], Step: [701/1563], Validation Acc: 63.9\n",
      "Epoch: [5/5], Step: [701/1563], Training Loss: 0.7592063546180725\n",
      "Epoch: [5/5], Step: [801/1563], Validation Acc: 62.9\n",
      "Epoch: [5/5], Step: [801/1563], Training Loss: 0.6848627328872681\n",
      "Epoch: [5/5], Step: [901/1563], Validation Acc: 63.1\n",
      "Epoch: [5/5], Step: [901/1563], Training Loss: 0.7037140130996704\n"
     ]
    },
    {
     "name": "stdout",
     "output_type": "stream",
     "text": [
      "Epoch: [5/5], Step: [1001/1563], Validation Acc: 65.1\n",
      "Epoch: [5/5], Step: [1001/1563], Training Loss: 0.6865931749343872\n",
      "Epoch: [5/5], Step: [1101/1563], Validation Acc: 63.9\n",
      "Epoch: [5/5], Step: [1101/1563], Training Loss: 1.0309758186340332\n",
      "Epoch: [5/5], Step: [1201/1563], Validation Acc: 63.9\n",
      "Epoch: [5/5], Step: [1201/1563], Training Loss: 0.6212489604949951\n",
      "Epoch: [5/5], Step: [1301/1563], Validation Acc: 64.1\n",
      "Epoch: [5/5], Step: [1301/1563], Training Loss: 0.833877444267273\n",
      "Epoch: [5/5], Step: [1401/1563], Validation Acc: 65.0\n",
      "Epoch: [5/5], Step: [1401/1563], Training Loss: 0.8273976445198059\n",
      "Epoch: [5/5], Step: [1501/1563], Validation Acc: 65.1\n",
      "Epoch: [5/5], Step: [1501/1563], Training Loss: 0.8839448690414429\n"
     ]
    }
   ],
   "source": [
    "model = TwoSentenceModel(emb_size = 300, hidden_size=250, num_layers=1, num_classes=3).to(device)\n",
    "train_model(model)"
   ]
  },
  {
   "cell_type": "code",
   "execution_count": 120,
   "metadata": {},
   "outputs": [
    {
     "ename": "TypeError",
     "evalue": "forward() got an unexpected keyword argument 'lengths'",
     "output_type": "error",
     "traceback": [
      "\u001b[0;31m---------------------------------------------------------------------------\u001b[0m",
      "\u001b[0;31mTypeError\u001b[0m                                 Traceback (most recent call last)",
      "\u001b[0;32m<ipython-input-120-7e0ce24a816a>\u001b[0m in \u001b[0;36m<module>\u001b[0;34m()\u001b[0m\n\u001b[1;32m      4\u001b[0m \u001b[0;34m\u001b[0m\u001b[0m\n\u001b[1;32m      5\u001b[0m \u001b[0mindices_data\u001b[0m \u001b[0;34m=\u001b[0m \u001b[0mtorch\u001b[0m\u001b[0;34m.\u001b[0m\u001b[0mfrom_numpy\u001b[0m\u001b[0;34m(\u001b[0m\u001b[0mnp\u001b[0m\u001b[0;34m.\u001b[0m\u001b[0marray\u001b[0m\u001b[0;34m(\u001b[0m\u001b[0mtoken2index_dataset\u001b[0m\u001b[0;34m(\u001b[0m\u001b[0msample_token_data\u001b[0m\u001b[0;34m)\u001b[0m\u001b[0;34m)\u001b[0m\u001b[0;34m)\u001b[0m\u001b[0;34m\u001b[0m\u001b[0m\n\u001b[0;32m----> 6\u001b[0;31m \u001b[0mmodel\u001b[0m\u001b[0;34m.\u001b[0m\u001b[0mforward\u001b[0m\u001b[0;34m(\u001b[0m\u001b[0mindices_data\u001b[0m\u001b[0;34m,\u001b[0m \u001b[0mlengths\u001b[0m \u001b[0;34m=\u001b[0m \u001b[0mtorch\u001b[0m\u001b[0;34m.\u001b[0m\u001b[0mfrom_numpy\u001b[0m\u001b[0;34m(\u001b[0m\u001b[0mnp\u001b[0m\u001b[0;34m.\u001b[0m\u001b[0marray\u001b[0m\u001b[0;34m(\u001b[0m\u001b[0;34m[\u001b[0m\u001b[0;36m7\u001b[0m\u001b[0;34m,\u001b[0m \u001b[0;36m7\u001b[0m\u001b[0;34m]\u001b[0m\u001b[0;34m)\u001b[0m\u001b[0;34m)\u001b[0m\u001b[0;34m)\u001b[0m\u001b[0;34m\u001b[0m\u001b[0m\n\u001b[0m",
      "\u001b[0;31mTypeError\u001b[0m: forward() got an unexpected keyword argument 'lengths'"
     ]
    }
   ],
   "source": [
    "sample_sent1 = ['How', \"are\", \"you\", \"doing\", \"my\", \"main\", \"man\"]\n",
    "sample_sent2 = ['I', \"am\", \"building\", \"a\", \"bruh\", \"hehe\", \"classifier\"]\n",
    "sample_token_data = [sample_sent1, sample_sent2]\n",
    "\n",
    "indices_data = torch.from_numpy(np.array(token2index_dataset(sample_token_data)))\n",
    "model.forward(indices_data, lengths = torch.from_numpy(np.array([7, 7])))"
   ]
  },
  {
   "cell_type": "code",
   "execution_count": null,
   "metadata": {},
   "outputs": [],
   "source": [
    "sample_sent1 = ['How', \"are\", \"you\", \"doing\", \"my\", \"main\", \"man\", \"pad\"]\n",
    "sample_sent2 = ['I', \"am\", \"building\", \"a\", \"bruh\", \"hehe\", \"classifier\"]\n",
    "\n",
    "sample_sent3 = ['How', \"are\", \"you\", \"doing\", \"my\", \"main\", \"man\", \"pad\"]\n",
    "sample_sent4 = ['I', \"am\", \"building\", \"a\", \"bruh\", \"hehe\", \"classifier\"]\n",
    "\n",
    "sample_sent5 = ['How', \"are\", \"you\", \"doing\", \"my\", \"main\", \"man\", \"pad\"]\n",
    "sample_sent6 = ['I', \"am\", \"building\", \"a\", \"bruh\", \"hehe\", \"classifier\"]\n",
    "\n",
    "sample_combined_list = []\n",
    "sample_combined_list.append([sample_sent1, sample_sent2])\n",
    "sample_combined_list.append([sample_sent3, sample_sent4])\n",
    "sample_combined_list.append([sample_sent5, sample_sent6])\n",
    "\n",
    "\n",
    "np.array(sample_combined_list).shape"
   ]
  },
  {
   "cell_type": "code",
   "execution_count": null,
   "metadata": {},
   "outputs": [],
   "source": [
    "for i, (data, sent1_lengths, sent2_lengths, labels) in enumerate(train_loader):\n",
    "    print(\"DATA\\n\")\n",
    "    print(data.size())\n",
    "    print (data)\n",
    "    print(sent1_lengths)\n",
    "    print(sent2_lengths)\n",
    "    print (labels)\n",
    "    break"
   ]
  },
  {
   "cell_type": "code",
   "execution_count": null,
   "metadata": {},
   "outputs": [],
   "source": []
  },
  {
   "cell_type": "code",
   "execution_count": null,
   "metadata": {},
   "outputs": [],
   "source": [
    "###\n",
    "### Initialize unk vector to * 0.01 and 0.001.  \n",
    "###\n",
    "\n",
    "###\n",
    "### Sort descending before doing pack_padded_sequence\n",
    "###\n",
    "\n",
    "###\n",
    "### Sort all training sentences by descending order. \n",
    "### Feed it into the batch. \n",
    "### Run your model through each of them to get hidden outputs\n",
    "### Match them back again to right order to calculate loss. \n",
    "###\n",
    "\n",
    "###\n",
    "### Freeze the embedding matrix weights so they don't train. \n",
    "###"
   ]
  },
  {
   "cell_type": "code",
   "execution_count": null,
   "metadata": {},
   "outputs": [],
   "source": []
  }
 ],
 "metadata": {
  "kernelspec": {
   "display_name": "Python 3",
   "language": "python",
   "name": "python3"
  },
  "language_info": {
   "codemirror_mode": {
    "name": "ipython",
    "version": 3
   },
   "file_extension": ".py",
   "mimetype": "text/x-python",
   "name": "python",
   "nbconvert_exporter": "python",
   "pygments_lexer": "ipython3",
   "version": "3.7.0"
  }
 },
 "nbformat": 4,
 "nbformat_minor": 2
}
