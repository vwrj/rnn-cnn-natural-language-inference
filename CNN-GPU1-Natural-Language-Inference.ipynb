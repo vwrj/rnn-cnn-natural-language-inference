{
 "cells": [
  {
   "cell_type": "code",
   "execution_count": 41,
   "metadata": {},
   "outputs": [],
   "source": [
    "import numpy as np\n",
    "import torch\n",
    "import torch.nn as nn\n",
    "import torch.nn.functional as F\n",
    "from torch.utils.data import Dataset\n",
    "from collections import Counter\n",
    "import pickle as pkl\n",
    "import random\n",
    "import pdb\n",
    "import io\n",
    "import nltk\n",
    "from nltk.tokenize import sent_tokenize, word_tokenize\n",
    "import pandas as pd\n",
    "import pdb\n",
    "\n",
    "BATCH_SIZE = 32\n",
    "VOCAB_SIZE = 50000"
   ]
  },
  {
   "cell_type": "code",
   "execution_count": 42,
   "metadata": {},
   "outputs": [],
   "source": [
    "# nltk.download('punkt')"
   ]
  },
  {
   "cell_type": "markdown",
   "metadata": {},
   "source": [
    "### Helper functions for each step in the pipeline"
   ]
  },
  {
   "cell_type": "code",
   "execution_count": 43,
   "metadata": {},
   "outputs": [],
   "source": [
    "def load_vectors(fname):\n",
    "    fin = io.open(fname, 'r', encoding='utf-8', newline='\\n', errors='ignore')\n",
    "    n, d = map(int, fin.readline().split())\n",
    "    data = {}\n",
    "    print(n, d)\n",
    "    i = 0\n",
    "    for line in fin:\n",
    "        if i == VOCAB_SIZE:\n",
    "            break\n",
    "        tokens = line.rstrip().split(' ')\n",
    "        data[tokens[0]] = np.array(list(map(float, tokens[1:])))\n",
    "        i += 1\n",
    "    return data"
   ]
  },
  {
   "cell_type": "code",
   "execution_count": 44,
   "metadata": {},
   "outputs": [],
   "source": [
    "from collections import Counter\n",
    "# save index 0 for unk and 1 for pad\n",
    "PAD_IDX = 0\n",
    "UNK_IDX = 1\n",
    "VOCAB_SIZE = 50000\n",
    "\n",
    "def build_vocab():\n",
    "    # Returns:\n",
    "    # id2token: list of tokens, where id2token[i] returns token that corresponds to token i\n",
    "    # token2id: dictionary where keys represent tokens and corresponding values represent indices\n",
    "    word_vectors = pkl.load(open(\"fasttext_word_vectors.p\", \"rb\"))\n",
    "    id2token = list(word_vectors.keys())\n",
    "    token2id = dict(zip(word_vectors, range(2,2+len(word_vectors)))) \n",
    "    id2token = ['<pad>', '<unk>'] + id2token\n",
    "    token2id['<pad>'] = PAD_IDX \n",
    "    token2id['<unk>'] = UNK_IDX\n",
    "    return word_vectors, token2id, id2token"
   ]
  },
  {
   "cell_type": "code",
   "execution_count": 45,
   "metadata": {},
   "outputs": [],
   "source": [
    "def convert_labels_to_integers(data_label):\n",
    "    for i in range(len(data_label)):\n",
    "        if data_label[i] == \"contradiction\":\n",
    "            data_label[i] = 0\n",
    "        elif data_label[i] == \"entailment\":\n",
    "            data_label[i] = 1\n",
    "        elif data_label[i] == \"neutral\":\n",
    "            data_label[i] = 2\n",
    "    return data_label"
   ]
  },
  {
   "cell_type": "code",
   "execution_count": 46,
   "metadata": {},
   "outputs": [],
   "source": [
    "def verify_order(sent1_data, sent2_data, data_label):\n",
    "    i = random.randint(1, len(sent1_data))\n",
    "    print(sent1_data[i])\n",
    "    print(sent2_data[i])\n",
    "    print(data_label[i])"
   ]
  },
  {
   "cell_type": "code",
   "execution_count": 47,
   "metadata": {},
   "outputs": [],
   "source": [
    "# Word tokenize each entry in a list of sentences\n",
    "def tokenize(sentence_list):\n",
    "    return [word_tokenize(sentence_list[i]) for i in range(len(sentence_list))]"
   ]
  },
  {
   "cell_type": "code",
   "execution_count": 48,
   "metadata": {},
   "outputs": [],
   "source": [
    "# \"one-hot encode\": convert each token to id in vocabulary vector (token2id)\n",
    "def token2index_dataset(tokens_data):\n",
    "    indices_data = []\n",
    "    for tokens in tokens_data:\n",
    "        index_list = [token2id[token] if token in token2id else UNK_IDX for token in tokens]\n",
    "        indices_data.append(index_list)\n",
    "    return indices_data "
   ]
  },
  {
   "cell_type": "markdown",
   "metadata": {},
   "source": [
    "### Creating vocabulary & embedding matrix from FastText vectors"
   ]
  },
  {
   "cell_type": "code",
   "execution_count": 49,
   "metadata": {},
   "outputs": [],
   "source": [
    "word_vectors, token2id, id2token = build_vocab()"
   ]
  },
  {
   "cell_type": "code",
   "execution_count": 50,
   "metadata": {},
   "outputs": [
    {
     "data": {
      "text/plain": [
       "(50002, 300)"
      ]
     },
     "execution_count": 50,
     "metadata": {},
     "output_type": "execute_result"
    }
   ],
   "source": [
    "_weights = np.array(list(word_vectors.values()))\n",
    "pad_vec = np.zeros((1, 300))\n",
    "unk_vec = np.random.randn(1, 300) * 0.01\n",
    "pad_unk_vecs = np.vstack((pad_vec, unk_vec))\n",
    "_WEIGHTS = np.vstack((pad_unk_vecs, _weights))\n",
    "_WEIGHTS.shape"
   ]
  },
  {
   "cell_type": "markdown",
   "metadata": {},
   "source": [
    "### Function to pre-process data for TwoSentenceModel\n",
    "#### Shuffle, word tokenize, one-hot index into vocabulary"
   ]
  },
  {
   "cell_type": "code",
   "execution_count": 51,
   "metadata": {},
   "outputs": [],
   "source": [
    "def data_pipeline(sent1s, sent2s, labels, verify=True):\n",
    "    labels = convert_labels_to_integers(labels)\n",
    "    seed = random.randint(1, 100)\n",
    "    print(\"Random seed for shuffling: {}\".format(seed))\n",
    "    random.Random(seed).shuffle(sent1s)\n",
    "    random.Random(seed).shuffle(sent2s)\n",
    "    random.Random(seed).shuffle(labels)\n",
    "    \n",
    "    print(\"\\nVerifying that the data and label match after shuffling\")\n",
    "    if verify:\n",
    "        verify_order(sent1s, sent2s, labels)\n",
    "        verify_order(sent1s, sent2s, labels)\n",
    "          \n",
    "    print(\"\\nTokenizing sentence 1 list...\")    \n",
    "    sent1s_tokenized = tokenize(sent1s)\n",
    "    print(\"done!\")\n",
    "    print(\"\\nTokenizing sentence 2 list... \")  \n",
    "    sent2s_tokenized = tokenize(sent2s)\n",
    "    print(\"done!\")\n",
    "    \n",
    "    print(\"\\nOne-hot encoding words for sentence 1 list...\")  \n",
    "    sent1s_indices = token2index_dataset(sent1s_tokenized)\n",
    "    print(\"done!\")\n",
    "    print(\"\\nOne-hot encoding words for sentence 2 list...\")  \n",
    "    sent2s_indices = token2index_dataset(sent2s_tokenized)\n",
    "    print(\"done!\")\n",
    "    \n",
    "    return (sent1s_indices, sent2s_indices, labels)"
   ]
  },
  {
   "cell_type": "markdown",
   "metadata": {},
   "source": [
    "### DataLoader"
   ]
  },
  {
   "cell_type": "code",
   "execution_count": 52,
   "metadata": {},
   "outputs": [],
   "source": [
    "# MAX_SENTENCE_LENGTH = 30\n",
    "\n",
    "import numpy as np\n",
    "import torch\n",
    "from torch.utils.data import Dataset\n",
    "\n",
    "class TwoSentencesDataset(Dataset):\n",
    "    \"\"\"\n",
    "    Class that represents a train/validation/test dataset that's readable for PyTorch\n",
    "    \"\"\"\n",
    "    \n",
    "    def __init__(self, sent1_data_list, sent2_data_list, target_list):\n",
    "        \"\"\"\n",
    "        @param sent1_data_list: list of sentence1's (index matches sentence2's and target_list below)\n",
    "        @param sent2_data_list: list of sentence2's\n",
    "        @param target_list: list of correct labels\n",
    "\n",
    "        \"\"\"\n",
    "        self.sent1_data_list = sent1_data_list\n",
    "        self.sent2_data_list = sent2_data_list\n",
    "        self.target_list = target_list\n",
    "        assert (len(self.sent1_data_list) == len(self.target_list) and len(self.sent2_data_list) == len(self.target_list))\n",
    "\n",
    "    def __len__(self):\n",
    "        return len(self.sent1_data_list)\n",
    "        \n",
    "    def __getitem__(self, key):\n",
    "        ###\n",
    "        ### Returns [[sentence, 1, tokens], [sentence, 2, tokens]]\n",
    "        ###\n",
    "        \"\"\"\n",
    "        Triggered when you call dataset[i]\n",
    "        \"\"\"\n",
    "        sent1_tokens_idx = self.sent1_data_list[key][:MAX_SENTENCE_LENGTH]\n",
    "        sent2_tokens_idx = self.sent2_data_list[key][:MAX_SENTENCE_LENGTH]\n",
    "        combined_tokens_idx = [sent1_tokens_idx, sent2_tokens_idx]\n",
    "        label = self.target_list[key]\n",
    "        return [combined_tokens_idx, len(sent1_tokens_idx), len(sent2_tokens_idx), label]\n",
    "\n",
    "def twosentences_collate_func(batch):\n",
    "    \"\"\"\n",
    "    Customized function for DataLoader that dynamically pads the batch so that all \n",
    "    data have the same length\n",
    "    \"\"\"\n",
    "    sent1_data_list = []\n",
    "    sent2_data_list = []\n",
    "    sent1_length_list = []\n",
    "    sent2_length_list = []\n",
    "    label_list = []\n",
    "    combined_data_list = []\n",
    "    #print(\"collate batch: \", batch[0][0])\n",
    "    #batch[0][0] = batch[0][0][:MAX_SENTENCE_LENGTH]\n",
    "    for datum in batch:\n",
    "        label_list.append(datum[3])\n",
    "        sent1_length_list.append(datum[1])\n",
    "        sent2_length_list.append(datum[2])\n",
    "    # padding\n",
    "    for datum in batch:\n",
    "        padded_vec_1 = np.pad(np.array(datum[0][0]), pad_width=((0,MAX_SENTENCE_LENGTH-datum[1])), \n",
    "                                mode=\"constant\", constant_values=0)\n",
    "        padded_vec_2 = np.pad(np.array(datum[0][1]), pad_width=((0,MAX_SENTENCE_LENGTH-datum[2])), \n",
    "                                mode=\"constant\", constant_values=0)\n",
    "        combined_data_list.append([padded_vec_1, padded_vec_2])\n",
    "    return [torch.from_numpy(np.array(combined_data_list)), \n",
    "            torch.LongTensor(sent1_length_list), torch.LongTensor(sent2_length_list), torch.LongTensor(label_list)]"
   ]
  },
  {
   "cell_type": "markdown",
   "metadata": {},
   "source": [
    "### Train Dataset creation"
   ]
  },
  {
   "cell_type": "code",
   "execution_count": 53,
   "metadata": {},
   "outputs": [
    {
     "name": "stdout",
     "output_type": "stream",
     "text": [
      "Size of training data: 100000\n"
     ]
    }
   ],
   "source": [
    "snli_train = pd.read_csv('snli_train.tsv', sep='\\t')\n",
    "TRAIN_SIZE = 100000\n",
    "\n",
    "sent1_data = list(snli_train[\"sentence1\"])[:TRAIN_SIZE]\n",
    "sent2_data = list(snli_train[\"sentence2\"])[:TRAIN_SIZE]\n",
    "data_label = list(snli_train[\"label\"])[:TRAIN_SIZE]\n",
    "print(\"Size of training data: {}\".format(len(sent1_data)))"
   ]
  },
  {
   "cell_type": "code",
   "execution_count": 54,
   "metadata": {},
   "outputs": [
    {
     "name": "stdout",
     "output_type": "stream",
     "text": [
      "Random seed for shuffling: 13\n",
      "\n",
      "Verifying that the data and label match after shuffling\n",
      "People are standing near boats in a sandy area .\n",
      "People are walking towards the boats .\n",
      "2\n",
      "An Islamic soldier showing something to a group of Islamic children .\n",
      "A group of Islamic children are riding bicycles down the street .\n",
      "0\n",
      "\n",
      "Tokenizing sentence 1 list...\n",
      "done!\n",
      "\n",
      "Tokenizing sentence 2 list... \n",
      "done!\n",
      "\n",
      "One-hot encoding words for sentence 1 list...\n",
      "done!\n",
      "\n",
      "One-hot encoding words for sentence 2 list...\n",
      "done!\n",
      "Finished creating train_loader.\n"
     ]
    }
   ],
   "source": [
    "sent1_train_indices, sent2_train_indices, train_label = data_pipeline(sent1_data, sent2_data, data_label)\n",
    "train_dataset = TwoSentencesDataset(sent1_train_indices, sent2_train_indices, train_label)\n",
    "train_loader = torch.utils.data.DataLoader(dataset=train_dataset, \n",
    "                                           batch_size=BATCH_SIZE, \n",
    "                                           collate_fn=twosentences_collate_func,\n",
    "                                           #shuffle=True\n",
    "                                          )\n",
    "print(\"Finished creating train_loader.\")"
   ]
  },
  {
   "cell_type": "markdown",
   "metadata": {},
   "source": [
    "### Val Dataset creation"
   ]
  },
  {
   "cell_type": "code",
   "execution_count": 55,
   "metadata": {},
   "outputs": [
    {
     "name": "stdout",
     "output_type": "stream",
     "text": [
      "Size of val data: 1000\n"
     ]
    }
   ],
   "source": [
    "snli_val = pd.read_csv('snli_val.tsv', sep='\\t')\n",
    "sent1_val = list(snli_val[\"sentence1\"])\n",
    "sent2_val = list(snli_val[\"sentence2\"])\n",
    "val_label = list(snli_val[\"label\"])\n",
    "print(\"Size of val data: {}\".format(len(sent1_val)))"
   ]
  },
  {
   "cell_type": "code",
   "execution_count": 56,
   "metadata": {},
   "outputs": [
    {
     "name": "stdout",
     "output_type": "stream",
     "text": [
      "Random seed for shuffling: 47\n",
      "\n",
      "Verifying that the data and label match after shuffling\n",
      "A very young child in a red plaid coat and pink winter hat makes a snowball in a large pile of snow .\n",
      "A child in a red plaid coat and pink winter hat makes a snowball in a large pile of snow .\n",
      "1\n",
      "two wrestlers wrestling , the one on the bottom is in submission and could possibly be in pain .\n",
      "The good friends eat ice cream together\n",
      "0\n",
      "\n",
      "Tokenizing sentence 1 list...\n",
      "done!\n",
      "\n",
      "Tokenizing sentence 2 list... \n",
      "done!\n",
      "\n",
      "One-hot encoding words for sentence 1 list...\n",
      "done!\n",
      "\n",
      "One-hot encoding words for sentence 2 list...\n",
      "done!\n"
     ]
    }
   ],
   "source": [
    "sent1_val_indices, sent2_val_indices, val_label = data_pipeline(sent1_val, sent2_val, val_label)\n",
    "val_dataset = TwoSentencesDataset(sent1_val_indices, sent2_val_indices, val_label)\n",
    "val_loader = torch.utils.data.DataLoader(dataset=val_dataset, \n",
    "                                           batch_size=BATCH_SIZE, \n",
    "                                           collate_fn=twosentences_collate_func,\n",
    "                                           #shuffle=True\n",
    "                                          )"
   ]
  },
  {
   "cell_type": "code",
   "execution_count": 57,
   "metadata": {},
   "outputs": [],
   "source": [
    "pd.Series([len(x) for x in snli_train['sentence1']]).describe()['75%']\n",
    "MAX_SENTENCE_LENGTH = 40"
   ]
  },
  {
   "cell_type": "markdown",
   "metadata": {},
   "source": [
    "### CNN Model"
   ]
  },
  {
   "cell_type": "code",
   "execution_count": 58,
   "metadata": {},
   "outputs": [],
   "source": [
    "class CNN(nn.Module):\n",
    "    def __init__(self, emb_size, hidden_size, num_layers, num_classes):\n",
    "\n",
    "        super(CNN, self).__init__()\n",
    "\n",
    "        self.num_layers, self.hidden_size = num_layers, hidden_size\n",
    "        self.embedding = nn.Embedding.from_pretrained(torch.FloatTensor(_WEIGHTS), freeze=False)\n",
    "    \n",
    "        self.conv1 = nn.Conv1d(emb_size, hidden_size, kernel_size=3, padding=1)\n",
    "        self.conv2 = nn.Conv1d(hidden_size, hidden_size, kernel_size=3, padding=1)\n",
    "        self.maxpool = nn.MaxPool1d(30)\n",
    "        self.linear1 = nn.Linear(2*hidden_size, 100)\n",
    "        self.linear2 = nn.Linear(100, num_classes)\n",
    "        self.dropout = nn.Dropout(p=0.2)\n",
    "\n",
    "    def forward(self, x, sent1_lengths, sent2_lengths):\n",
    "        \n",
    "        batch_size = x.size()[0]\n",
    "        seq_len = x.size()[2]\n",
    "        \n",
    "        sent1s = torch.tensor(x[:, 0, :]).cuda()\n",
    "        sent2s = torch.tensor(x[:, 1, :]).cuda()\n",
    "        ordered_sents = torch.cat([sent1s, sent2s], dim=0).cuda()\n",
    "\n",
    "        embed = self.embedding(ordered_sents)\n",
    "        hidden = self.conv1(embed.transpose(1,2)).transpose(1,2)\n",
    "        hidden = F.relu(hidden.contiguous().view(-1, hidden.size(-1))).view(2*batch_size, seq_len, hidden.size(-1))\n",
    "\n",
    "        hidden = self.conv2(hidden.transpose(1,2)).transpose(1,2)\n",
    "        hidden = F.relu(hidden.contiguous().view(-1, hidden.size(-1))).view(2*batch_size, seq_len, hidden.size(-1))\n",
    "        hidden = self.maxpool(hidden.transpose(1, 2)).transpose(1, 2).squeeze(dim=1)\n",
    "        \n",
    "        hidden_sent1s = hidden[0:batch_size, :]\n",
    "        hidden_sent2s = hidden[batch_size:, :]     \n",
    "        \n",
    "        linear1 = self.linear1(torch.cat([hidden_sent1s, hidden_sent2s], dim=1))\n",
    "#         linear1 = self.linear1(torch.tensor(hidden_sent1s) + torch.tensor(hidden_sent2s))\n",
    "#         linear1 = self.linear1(torch.tensor(hidden_sent1s)*torch.tensor(hidden_sent2s))\n",
    "        linear1 = F.relu(linear1.contiguous().view(-1, linear1.size(-1))).view(linear1.shape)\n",
    "#         linear1 = self.dropout(linear1)\n",
    "        logits = self.linear2(linear1)\n",
    "        \n",
    "        return logits"
   ]
  },
  {
   "cell_type": "code",
   "execution_count": 59,
   "metadata": {},
   "outputs": [
    {
     "name": "stdout",
     "output_type": "stream",
     "text": [
      "tensor([[-1.1685, -0.2840,  0.6618, -0.2670],\n",
      "        [-1.0615,  0.1780,  0.4254,  0.7220],\n",
      "        [-0.6698, -0.5096, -1.0442,  0.1771]])\n",
      "tensor([[-1.5563,  0.0975,  0.1708, -1.1671],\n",
      "        [-0.1753,  0.1231,  0.2559, -0.8910],\n",
      "        [-1.3285,  1.1445, -0.3546, -0.5648]])\n",
      "tensor([[ 1.8185, -0.0277,  0.1130,  0.3117],\n",
      "        [ 0.1860,  0.0219,  0.1089, -0.6433],\n",
      "        [ 0.8898, -0.5833,  0.3703, -0.1000]])\n"
     ]
    }
   ],
   "source": [
    "a = torch.randn(3, 4)\n",
    "b = torch.randn(3, 4)\n",
    "print(a)\n",
    "print(b)\n",
    "print(a*b)"
   ]
  },
  {
   "cell_type": "code",
   "execution_count": 60,
   "metadata": {},
   "outputs": [],
   "source": [
    "# Function for testing the model\n",
    "def test_model(loader, model):\n",
    "    \"\"\"\n",
    "    Helper function that tests the model's performance on a dataset\n",
    "    \"\"\"\n",
    "    correct = 0\n",
    "    total = 0\n",
    "    model.eval()\n",
    "    for (data, sent1_lengths, sent2_lengths, labels) in loader:\n",
    "        data_batch, sent1_length_batch, sent2_length_batch, label_batch = data.cuda(), sent1_lengths.cuda(), sent2_lengths.cuda(), labels.cuda()\n",
    "        outputs = F.softmax(model(data_batch, sent1_length_batch, sent2_length_batch), dim=1)\n",
    "        predicted = outputs.max(1, keepdim=True)[1]\n",
    "        labels = labels.cuda()\n",
    "        total += labels.size(0)\n",
    "        correct += predicted.eq(labels.view_as(predicted)).sum().item()\n",
    "    return (100 * correct / total)\n",
    "\n",
    "def train_model(model, lr = 0.001, num_epochs = 7, criterion = nn.CrossEntropyLoss()):\n",
    "    optimizer = torch.optim.Adam(model.parameters(), lr=lr) \n",
    "    max_val_acc = 0\n",
    "    for epoch in range(num_epochs):\n",
    "        for i, (data, sent1_lengths, sent2_lengths, labels) in enumerate(train_loader):\n",
    "            model.train()\n",
    "            data_batch, sent1_length_batch, sent2_length_batch, label_batch = data.cuda(), sent1_lengths.cuda(), sent2_lengths.cuda(), labels.cuda()\n",
    "            optimizer.zero_grad()\n",
    "            outputs = model(data_batch, sent1_length_batch, sent2_length_batch)\n",
    "            loss = criterion(outputs, label_batch)\n",
    "            \n",
    "            loss.backward()\n",
    "            optimizer.step()\n",
    "            # validate every 100 iterations\n",
    "            if i > 0 and i % 100 == 0:\n",
    "                # validate\n",
    "                val_acc = test_model(val_loader, model)\n",
    "                if val_acc > max_val_acc:\n",
    "                    max_val_acc = val_acc\n",
    "                print('Epoch: [{}/{}], Step: [{}/{}], Validation Acc: {}'.format( \n",
    "                           epoch+1, num_epochs, i+1, len(train_loader), val_acc))\n",
    "                print('Epoch: [{}/{}], Step: [{}/{}], Training Loss: {}'.format( \n",
    "                           epoch+1, num_epochs, i+1, len(train_loader), loss))\n",
    "                \n",
    "    print(\"Max Validation Accuracy: {}\".format(max_val_acc))\n",
    "    return max_val_acc"
   ]
  },
  {
   "cell_type": "code",
   "execution_count": 61,
   "metadata": {},
   "outputs": [
    {
     "name": "stdout",
     "output_type": "stream",
     "text": [
      "Epoch: [1/3], Step: [101/3125], Validation Acc: 45.6\n",
      "Epoch: [1/3], Step: [101/3125], Training Loss: 1.0075771808624268\n",
      "Epoch: [1/3], Step: [201/3125], Validation Acc: 52.7\n",
      "Epoch: [1/3], Step: [201/3125], Training Loss: 0.9734711050987244\n",
      "Epoch: [1/3], Step: [301/3125], Validation Acc: 58.2\n",
      "Epoch: [1/3], Step: [301/3125], Training Loss: 0.9876415729522705\n",
      "Epoch: [1/3], Step: [401/3125], Validation Acc: 58.3\n",
      "Epoch: [1/3], Step: [401/3125], Training Loss: 0.7350572943687439\n",
      "Epoch: [1/3], Step: [501/3125], Validation Acc: 58.1\n",
      "Epoch: [1/3], Step: [501/3125], Training Loss: 0.9958885908126831\n",
      "Epoch: [1/3], Step: [601/3125], Validation Acc: 60.2\n",
      "Epoch: [1/3], Step: [601/3125], Training Loss: 0.9529241919517517\n",
      "Epoch: [1/3], Step: [701/3125], Validation Acc: 59.0\n",
      "Epoch: [1/3], Step: [701/3125], Training Loss: 0.7858367562294006\n",
      "Epoch: [1/3], Step: [801/3125], Validation Acc: 61.3\n",
      "Epoch: [1/3], Step: [801/3125], Training Loss: 0.7031379342079163\n",
      "Epoch: [1/3], Step: [901/3125], Validation Acc: 61.8\n",
      "Epoch: [1/3], Step: [901/3125], Training Loss: 0.7497249841690063\n",
      "Epoch: [1/3], Step: [1001/3125], Validation Acc: 61.2\n",
      "Epoch: [1/3], Step: [1001/3125], Training Loss: 0.7306209802627563\n",
      "Epoch: [1/3], Step: [1101/3125], Validation Acc: 61.4\n",
      "Epoch: [1/3], Step: [1101/3125], Training Loss: 0.9296889901161194\n",
      "Epoch: [1/3], Step: [1201/3125], Validation Acc: 62.7\n",
      "Epoch: [1/3], Step: [1201/3125], Training Loss: 0.98769611120224\n",
      "Epoch: [1/3], Step: [1301/3125], Validation Acc: 62.7\n",
      "Epoch: [1/3], Step: [1301/3125], Training Loss: 1.0170551538467407\n",
      "Epoch: [1/3], Step: [1401/3125], Validation Acc: 64.2\n",
      "Epoch: [1/3], Step: [1401/3125], Training Loss: 0.6169939041137695\n",
      "Epoch: [1/3], Step: [1501/3125], Validation Acc: 63.0\n",
      "Epoch: [1/3], Step: [1501/3125], Training Loss: 0.7387670874595642\n",
      "Epoch: [1/3], Step: [1601/3125], Validation Acc: 62.5\n",
      "Epoch: [1/3], Step: [1601/3125], Training Loss: 0.8958048224449158\n",
      "Epoch: [1/3], Step: [1701/3125], Validation Acc: 62.9\n",
      "Epoch: [1/3], Step: [1701/3125], Training Loss: 0.8089974522590637\n",
      "Epoch: [1/3], Step: [1801/3125], Validation Acc: 63.0\n",
      "Epoch: [1/3], Step: [1801/3125], Training Loss: 0.8323252201080322\n",
      "Epoch: [1/3], Step: [1901/3125], Validation Acc: 62.8\n",
      "Epoch: [1/3], Step: [1901/3125], Training Loss: 0.6705636382102966\n",
      "Epoch: [1/3], Step: [2001/3125], Validation Acc: 63.4\n",
      "Epoch: [1/3], Step: [2001/3125], Training Loss: 0.8957239985466003\n",
      "Epoch: [1/3], Step: [2101/3125], Validation Acc: 64.1\n",
      "Epoch: [1/3], Step: [2101/3125], Training Loss: 0.9738779664039612\n",
      "Epoch: [1/3], Step: [2201/3125], Validation Acc: 64.1\n",
      "Epoch: [1/3], Step: [2201/3125], Training Loss: 0.7409185171127319\n",
      "Epoch: [1/3], Step: [2301/3125], Validation Acc: 65.3\n",
      "Epoch: [1/3], Step: [2301/3125], Training Loss: 0.9609925746917725\n",
      "Epoch: [1/3], Step: [2401/3125], Validation Acc: 64.4\n",
      "Epoch: [1/3], Step: [2401/3125], Training Loss: 0.6738651394844055\n",
      "Epoch: [1/3], Step: [2501/3125], Validation Acc: 64.0\n",
      "Epoch: [1/3], Step: [2501/3125], Training Loss: 0.877849817276001\n",
      "Epoch: [1/3], Step: [2601/3125], Validation Acc: 64.2\n",
      "Epoch: [1/3], Step: [2601/3125], Training Loss: 0.6864651441574097\n",
      "Epoch: [1/3], Step: [2701/3125], Validation Acc: 64.5\n",
      "Epoch: [1/3], Step: [2701/3125], Training Loss: 0.7484031915664673\n",
      "Epoch: [1/3], Step: [2801/3125], Validation Acc: 64.6\n",
      "Epoch: [1/3], Step: [2801/3125], Training Loss: 0.7041695713996887\n",
      "Epoch: [1/3], Step: [2901/3125], Validation Acc: 64.7\n",
      "Epoch: [1/3], Step: [2901/3125], Training Loss: 0.6257201433181763\n",
      "Epoch: [1/3], Step: [3001/3125], Validation Acc: 64.0\n",
      "Epoch: [1/3], Step: [3001/3125], Training Loss: 0.6591881513595581\n",
      "Epoch: [1/3], Step: [3101/3125], Validation Acc: 66.5\n",
      "Epoch: [1/3], Step: [3101/3125], Training Loss: 0.7467175126075745\n",
      "Epoch: [2/3], Step: [101/3125], Validation Acc: 65.2\n",
      "Epoch: [2/3], Step: [101/3125], Training Loss: 0.6399163007736206\n",
      "Epoch: [2/3], Step: [201/3125], Validation Acc: 64.3\n",
      "Epoch: [2/3], Step: [201/3125], Training Loss: 0.7473527193069458\n",
      "Epoch: [2/3], Step: [301/3125], Validation Acc: 65.4\n",
      "Epoch: [2/3], Step: [301/3125], Training Loss: 0.5895282030105591\n",
      "Epoch: [2/3], Step: [401/3125], Validation Acc: 64.1\n",
      "Epoch: [2/3], Step: [401/3125], Training Loss: 0.5449237823486328\n",
      "Epoch: [2/3], Step: [501/3125], Validation Acc: 63.7\n",
      "Epoch: [2/3], Step: [501/3125], Training Loss: 0.9571322202682495\n",
      "Epoch: [2/3], Step: [601/3125], Validation Acc: 64.5\n",
      "Epoch: [2/3], Step: [601/3125], Training Loss: 0.8203890323638916\n",
      "Epoch: [2/3], Step: [701/3125], Validation Acc: 64.6\n",
      "Epoch: [2/3], Step: [701/3125], Training Loss: 0.6866673231124878\n",
      "Epoch: [2/3], Step: [801/3125], Validation Acc: 65.4\n",
      "Epoch: [2/3], Step: [801/3125], Training Loss: 0.5466821193695068\n",
      "Epoch: [2/3], Step: [901/3125], Validation Acc: 64.7\n",
      "Epoch: [2/3], Step: [901/3125], Training Loss: 0.6291151642799377\n",
      "Epoch: [2/3], Step: [1001/3125], Validation Acc: 62.6\n",
      "Epoch: [2/3], Step: [1001/3125], Training Loss: 0.7489464282989502\n",
      "Epoch: [2/3], Step: [1101/3125], Validation Acc: 65.3\n",
      "Epoch: [2/3], Step: [1101/3125], Training Loss: 0.8045698404312134\n",
      "Epoch: [2/3], Step: [1201/3125], Validation Acc: 63.9\n",
      "Epoch: [2/3], Step: [1201/3125], Training Loss: 0.9845407605171204\n",
      "Epoch: [2/3], Step: [1301/3125], Validation Acc: 65.0\n",
      "Epoch: [2/3], Step: [1301/3125], Training Loss: 0.7431395053863525\n",
      "Epoch: [2/3], Step: [1401/3125], Validation Acc: 66.4\n",
      "Epoch: [2/3], Step: [1401/3125], Training Loss: 0.553031861782074\n",
      "Epoch: [2/3], Step: [1501/3125], Validation Acc: 66.7\n",
      "Epoch: [2/3], Step: [1501/3125], Training Loss: 0.5550662875175476\n",
      "Epoch: [2/3], Step: [1601/3125], Validation Acc: 65.1\n",
      "Epoch: [2/3], Step: [1601/3125], Training Loss: 0.7102197408676147\n",
      "Epoch: [2/3], Step: [1701/3125], Validation Acc: 66.3\n",
      "Epoch: [2/3], Step: [1701/3125], Training Loss: 0.7221113443374634\n",
      "Epoch: [2/3], Step: [1801/3125], Validation Acc: 66.2\n",
      "Epoch: [2/3], Step: [1801/3125], Training Loss: 0.6265472769737244\n",
      "Epoch: [2/3], Step: [1901/3125], Validation Acc: 65.3\n",
      "Epoch: [2/3], Step: [1901/3125], Training Loss: 0.5019329190254211\n",
      "Epoch: [2/3], Step: [2001/3125], Validation Acc: 65.2\n",
      "Epoch: [2/3], Step: [2001/3125], Training Loss: 0.8339046239852905\n",
      "Epoch: [2/3], Step: [2101/3125], Validation Acc: 65.2\n",
      "Epoch: [2/3], Step: [2101/3125], Training Loss: 0.9203351736068726\n",
      "Epoch: [2/3], Step: [2201/3125], Validation Acc: 65.2\n",
      "Epoch: [2/3], Step: [2201/3125], Training Loss: 0.5599687695503235\n",
      "Epoch: [2/3], Step: [2301/3125], Validation Acc: 66.4\n",
      "Epoch: [2/3], Step: [2301/3125], Training Loss: 0.7739475965499878\n",
      "Epoch: [2/3], Step: [2401/3125], Validation Acc: 65.4\n",
      "Epoch: [2/3], Step: [2401/3125], Training Loss: 0.6412107944488525\n",
      "Epoch: [2/3], Step: [2501/3125], Validation Acc: 64.2\n",
      "Epoch: [2/3], Step: [2501/3125], Training Loss: 0.7983354330062866\n",
      "Epoch: [2/3], Step: [2601/3125], Validation Acc: 66.2\n",
      "Epoch: [2/3], Step: [2601/3125], Training Loss: 0.6405024528503418\n",
      "Epoch: [2/3], Step: [2701/3125], Validation Acc: 65.3\n",
      "Epoch: [2/3], Step: [2701/3125], Training Loss: 0.6324089169502258\n",
      "Epoch: [2/3], Step: [2801/3125], Validation Acc: 64.4\n",
      "Epoch: [2/3], Step: [2801/3125], Training Loss: 0.6594796776771545\n",
      "Epoch: [2/3], Step: [2901/3125], Validation Acc: 64.4\n",
      "Epoch: [2/3], Step: [2901/3125], Training Loss: 0.5322368144989014\n",
      "Epoch: [2/3], Step: [3001/3125], Validation Acc: 65.1\n",
      "Epoch: [2/3], Step: [3001/3125], Training Loss: 0.5670342445373535\n",
      "Epoch: [2/3], Step: [3101/3125], Validation Acc: 66.6\n",
      "Epoch: [2/3], Step: [3101/3125], Training Loss: 0.6271509528160095\n",
      "Epoch: [3/3], Step: [101/3125], Validation Acc: 66.1\n",
      "Epoch: [3/3], Step: [101/3125], Training Loss: 0.5100730657577515\n",
      "Epoch: [3/3], Step: [201/3125], Validation Acc: 65.6\n",
      "Epoch: [3/3], Step: [201/3125], Training Loss: 0.6462703943252563\n",
      "Epoch: [3/3], Step: [301/3125], Validation Acc: 64.9\n",
      "Epoch: [3/3], Step: [301/3125], Training Loss: 0.5114044547080994\n",
      "Epoch: [3/3], Step: [401/3125], Validation Acc: 64.6\n",
      "Epoch: [3/3], Step: [401/3125], Training Loss: 0.418709397315979\n",
      "Epoch: [3/3], Step: [501/3125], Validation Acc: 63.5\n",
      "Epoch: [3/3], Step: [501/3125], Training Loss: 0.8890690803527832\n",
      "Epoch: [3/3], Step: [601/3125], Validation Acc: 64.5\n",
      "Epoch: [3/3], Step: [601/3125], Training Loss: 0.845147430896759\n",
      "Epoch: [3/3], Step: [701/3125], Validation Acc: 65.1\n",
      "Epoch: [3/3], Step: [701/3125], Training Loss: 0.5224080681800842\n"
     ]
    },
    {
     "name": "stdout",
     "output_type": "stream",
     "text": [
      "Epoch: [3/3], Step: [801/3125], Validation Acc: 64.7\n",
      "Epoch: [3/3], Step: [801/3125], Training Loss: 0.4495244026184082\n",
      "Epoch: [3/3], Step: [901/3125], Validation Acc: 64.4\n",
      "Epoch: [3/3], Step: [901/3125], Training Loss: 0.47820448875427246\n",
      "Epoch: [3/3], Step: [1001/3125], Validation Acc: 63.6\n",
      "Epoch: [3/3], Step: [1001/3125], Training Loss: 0.6412855982780457\n",
      "Epoch: [3/3], Step: [1101/3125], Validation Acc: 64.6\n",
      "Epoch: [3/3], Step: [1101/3125], Training Loss: 0.6537289619445801\n",
      "Epoch: [3/3], Step: [1201/3125], Validation Acc: 64.8\n",
      "Epoch: [3/3], Step: [1201/3125], Training Loss: 0.966439425945282\n",
      "Epoch: [3/3], Step: [1301/3125], Validation Acc: 64.4\n",
      "Epoch: [3/3], Step: [1301/3125], Training Loss: 0.6946619749069214\n",
      "Epoch: [3/3], Step: [1401/3125], Validation Acc: 66.7\n",
      "Epoch: [3/3], Step: [1401/3125], Training Loss: 0.5620888471603394\n",
      "Epoch: [3/3], Step: [1501/3125], Validation Acc: 66.0\n",
      "Epoch: [3/3], Step: [1501/3125], Training Loss: 0.4836675226688385\n",
      "Epoch: [3/3], Step: [1601/3125], Validation Acc: 65.2\n",
      "Epoch: [3/3], Step: [1601/3125], Training Loss: 0.7292200922966003\n",
      "Epoch: [3/3], Step: [1701/3125], Validation Acc: 65.3\n",
      "Epoch: [3/3], Step: [1701/3125], Training Loss: 0.5899905562400818\n",
      "Epoch: [3/3], Step: [1801/3125], Validation Acc: 65.0\n",
      "Epoch: [3/3], Step: [1801/3125], Training Loss: 0.4788181781768799\n",
      "Epoch: [3/3], Step: [1901/3125], Validation Acc: 65.7\n",
      "Epoch: [3/3], Step: [1901/3125], Training Loss: 0.41824573278427124\n",
      "Epoch: [3/3], Step: [2001/3125], Validation Acc: 63.7\n",
      "Epoch: [3/3], Step: [2001/3125], Training Loss: 0.7606474757194519\n",
      "Epoch: [3/3], Step: [2101/3125], Validation Acc: 65.0\n",
      "Epoch: [3/3], Step: [2101/3125], Training Loss: 0.8400807976722717\n",
      "Epoch: [3/3], Step: [2201/3125], Validation Acc: 64.5\n",
      "Epoch: [3/3], Step: [2201/3125], Training Loss: 0.5149463415145874\n",
      "Epoch: [3/3], Step: [2301/3125], Validation Acc: 64.6\n",
      "Epoch: [3/3], Step: [2301/3125], Training Loss: 0.6543905138969421\n",
      "Epoch: [3/3], Step: [2401/3125], Validation Acc: 63.5\n",
      "Epoch: [3/3], Step: [2401/3125], Training Loss: 0.5278412103652954\n",
      "Epoch: [3/3], Step: [2501/3125], Validation Acc: 63.3\n",
      "Epoch: [3/3], Step: [2501/3125], Training Loss: 0.7168707251548767\n",
      "Epoch: [3/3], Step: [2601/3125], Validation Acc: 64.6\n",
      "Epoch: [3/3], Step: [2601/3125], Training Loss: 0.61016446352005\n",
      "Epoch: [3/3], Step: [2701/3125], Validation Acc: 63.4\n",
      "Epoch: [3/3], Step: [2701/3125], Training Loss: 0.5013744235038757\n",
      "Epoch: [3/3], Step: [2801/3125], Validation Acc: 64.4\n",
      "Epoch: [3/3], Step: [2801/3125], Training Loss: 0.5442250967025757\n",
      "Epoch: [3/3], Step: [2901/3125], Validation Acc: 64.4\n",
      "Epoch: [3/3], Step: [2901/3125], Training Loss: 0.46118685603141785\n",
      "Epoch: [3/3], Step: [3001/3125], Validation Acc: 64.6\n",
      "Epoch: [3/3], Step: [3001/3125], Training Loss: 0.43714791536331177\n",
      "Epoch: [3/3], Step: [3101/3125], Validation Acc: 67.4\n",
      "Epoch: [3/3], Step: [3101/3125], Training Loss: 0.5189943909645081\n",
      "Max Validation Accuracy: 67.4\n"
     ]
    },
    {
     "data": {
      "text/plain": [
       "67.4"
      ]
     },
     "execution_count": 61,
     "metadata": {},
     "output_type": "execute_result"
    }
   ],
   "source": [
    "model = CNN(emb_size = 300, hidden_size=300, num_layers=1, num_classes=3).cuda()\n",
    "train_model(model, num_epochs=3)"
   ]
  },
  {
   "cell_type": "code",
   "execution_count": 62,
   "metadata": {},
   "outputs": [],
   "source": [
    "torch.save(model.state_dict(), \"/home/vrajiv/rnn-cnn-natural-language-inference/best_cnn\")"
   ]
  },
  {
   "cell_type": "code",
   "execution_count": null,
   "metadata": {},
   "outputs": [],
   "source": []
  },
  {
   "cell_type": "markdown",
   "metadata": {},
   "source": [
    "### Hyperparameter tuning"
   ]
  },
  {
   "cell_type": "markdown",
   "metadata": {},
   "source": [
    "**Standard CNN** architecture and training hyperparameters: 2 Convolutional layers (each with kernel size 3) followed by 2 fully connected layers, hidden_size 300, 7 epochs, lr = 0.001. Used embedding layer with FastText vectors, with freeze = False. I've also included the results with freeze = True. "
   ]
  },
  {
   "cell_type": "markdown",
   "metadata": {},
   "source": [
    "| Hyperparameters changed                  | CNN (val accuracy) | RNN (val accuracy) |\n",
    "|------------------------------------------|:------------------:|:------------------:|\n",
    "| Standard (freeze=False)                  |        67.5%       |        69.9%       |\n",
    "| Standard, freeze=True                    |        67.2%       |        69.2%       |\n",
    "| Hidden size: 400                         |        67.2%       |        70.0%       |\n",
    "| Hidden size: 500                         |        67.1%       |        68.8%       |\n",
    "| Dropout (p = 0.5)                        |        66.6%       |        68.9%       |\n",
    "| Dropout (p = 0.2)                        |        67.2%       |        69.8%       |\n",
    "| Interaction: sum                         |        62.2%       |        64.1%       |\n",
    "| Interaction: element-wise multiplication |        65.8%       |        71.2%       |"
   ]
  },
  {
   "cell_type": "markdown",
   "metadata": {},
   "source": [
    "### Evaluating on MNLI"
   ]
  },
  {
   "cell_type": "code",
   "execution_count": 63,
   "metadata": {},
   "outputs": [],
   "source": [
    "mnli_val = pd.read_csv('mnli_val.tsv', sep='\\t')"
   ]
  },
  {
   "cell_type": "code",
   "execution_count": 64,
   "metadata": {},
   "outputs": [
    {
     "name": "stdout",
     "output_type": "stream",
     "text": [
      "75th percentile for sentence length (in characters): 151.0\n"
     ]
    }
   ],
   "source": [
    "sentence_length_75 = pd.Series([len(x) for x in mnli_val['sentence1']]).describe()['75%']\n",
    "print(\"75th percentile for sentence length (in characters): {}\".format(sentence_length_75))\n",
    "MAX_SENTENCE_LENGTH = 40"
   ]
  },
  {
   "cell_type": "markdown",
   "metadata": {},
   "source": [
    "#### Build dictionary of (sent1, sent2, label) data, by genre."
   ]
  },
  {
   "cell_type": "code",
   "execution_count": 65,
   "metadata": {},
   "outputs": [],
   "source": [
    "mnli_val_dict = {}\n",
    "for x in mnli_val['genre'].unique():\n",
    "    filtered = mnli_val[mnli_val['genre'] == x]\n",
    "    mnli_val_dict[x] = {}\n",
    "    mnli_val_dict[x][\"sent1s\"] = list(filtered[\"sentence1\"])\n",
    "    mnli_val_dict[x][\"sent2s\"] = list(filtered[\"sentence2\"])\n",
    "    mnli_val_dict[x][\"label\"] = convert_labels_to_integers(list(filtered[\"label\"]))"
   ]
  },
  {
   "cell_type": "code",
   "execution_count": 66,
   "metadata": {},
   "outputs": [
    {
     "name": "stdout",
     "output_type": "stream",
     "text": [
      "995\n",
      "[0 1 2]\n",
      "1005\n",
      "[0 1 2]\n",
      "1002\n",
      "[0 1 2]\n",
      "1016\n",
      "[0 1 2]\n",
      "982\n",
      "[0 1 2]\n",
      "France knew a good thing when she seized one , but then so did Britain .\n",
      "France knew this was a good place to stay .\n",
      "2\n"
     ]
    }
   ],
   "source": [
    "for x in mnli_val_dict.keys():\n",
    "    print(len(mnli_val_dict[x][\"sent1s\"]))\n",
    "    print(np.unique(mnli_val_dict[x][\"label\"]))\n",
    "    \n",
    "# quick verify\n",
    "verify_order(mnli_val_dict['travel'][\"sent1s\"], mnli_val_dict['travel'][\"sent2s\"], mnli_val_dict['travel'][\"label\"])"
   ]
  },
  {
   "cell_type": "code",
   "execution_count": 67,
   "metadata": {},
   "outputs": [
    {
     "name": "stdout",
     "output_type": "stream",
     "text": [
      "Random seed for shuffling: 45\n",
      "\n",
      "Verifying that the data and label match after shuffling\n",
      "No , do n't answer .\n",
      "Please respond .\n",
      "0\n",
      "Then I considered .\n",
      "Then , I thought if I should accepted to go with him .\n",
      "2\n",
      "\n",
      "Tokenizing sentence 1 list...\n",
      "done!\n",
      "\n",
      "Tokenizing sentence 2 list... \n",
      "done!\n",
      "\n",
      "One-hot encoding words for sentence 1 list...\n",
      "done!\n",
      "\n",
      "One-hot encoding words for sentence 2 list...\n",
      "done!\n",
      "Random seed for shuffling: 58\n",
      "\n",
      "Verifying that the data and label match after shuffling\n",
      "but how do you know the good from the bad\n",
      "Why care if it 's good or bad ?\n",
      "0\n",
      "so i guess my experience is is just with what we did and and so they did n't really go through the child care route they were able to be home together\n",
      "It was a good thing that they did n't go the child care route as they were able to be home with their child more often .\n",
      "2\n",
      "\n",
      "Tokenizing sentence 1 list...\n",
      "done!\n",
      "\n",
      "Tokenizing sentence 2 list... \n",
      "done!\n",
      "\n",
      "One-hot encoding words for sentence 1 list...\n",
      "done!\n",
      "\n",
      "One-hot encoding words for sentence 2 list...\n",
      "done!\n",
      "Random seed for shuffling: 92\n",
      "\n",
      "Verifying that the data and label match after shuffling\n",
      "Indeed , 58 percent of Columbia/HCA 's beds lie empty , compared with 35 percent of nonprofit beds .\n",
      "58 % of Columbia/HCA 's beds are empty .\n",
      "1\n",
      "Enthusiasm for Disney 's Broadway production of The Lion King dwindles .\n",
      "The broadway production of The Lion King was amazing , but audiences are getting bored .\n",
      "2\n",
      "\n",
      "Tokenizing sentence 1 list...\n",
      "done!\n",
      "\n",
      "Tokenizing sentence 2 list... \n",
      "done!\n",
      "\n",
      "One-hot encoding words for sentence 1 list...\n",
      "done!\n",
      "\n",
      "One-hot encoding words for sentence 2 list...\n",
      "done!\n",
      "Random seed for shuffling: 43\n",
      "\n",
      "Verifying that the data and label match after shuffling\n",
      "Mr. Erlenborn attended undergraduate courses at the University of Notre Dame , Indiana University , the University of Illinois , and Loyala University of Chicago .\n",
      "Mr. Erlenborn 's favorite university is located in Chicago .\n",
      "2\n",
      "STANDARD COSTING - A costing method that attaches costs to cost objects based on reasonable estimates or cost studies and by means of budgeted rates rather than according to actual costs incurred .\n",
      "Standard Costing was applied to the ledger .\n",
      "2\n",
      "\n",
      "Tokenizing sentence 1 list...\n",
      "done!\n",
      "\n",
      "Tokenizing sentence 2 list... \n",
      "done!\n",
      "\n",
      "One-hot encoding words for sentence 1 list...\n",
      "done!\n",
      "\n",
      "One-hot encoding words for sentence 2 list...\n",
      "done!\n",
      "Random seed for shuffling: 95\n",
      "\n",
      "Verifying that the data and label match after shuffling\n",
      "For centuries , the Loire river was a vital highway between the Atlantic and the heart of France .\n",
      "The Loire connected central France to the Atlantic .\n",
      "1\n",
      "Very few emperors were reluctant to submit to Fujiwara domination .\n",
      "Not many rulers had any hesitation in submitting to Fujiwara .\n",
      "1\n",
      "\n",
      "Tokenizing sentence 1 list...\n",
      "done!\n",
      "\n",
      "Tokenizing sentence 2 list... \n",
      "done!\n",
      "\n",
      "One-hot encoding words for sentence 1 list...\n",
      "done!\n",
      "\n",
      "One-hot encoding words for sentence 2 list...\n",
      "done!\n",
      "Genre fiction has validation accuracy: 42.311557788944725\n",
      "Genre telephone has validation accuracy: 43.582089552238806\n",
      "Genre slate has validation accuracy: 41.616766467065865\n",
      "Genre government has validation accuracy: 39.76377952755905\n",
      "Genre travel has validation accuracy: 42.56619144602851\n"
     ]
    }
   ],
   "source": [
    "# for each genre, build validation set and evaluate on it. \n",
    "cnn_results = {}\n",
    "model = CNN(emb_size = 300, hidden_size=300, num_layers=1, num_classes=3).cuda()\n",
    "model.load_state_dict(torch.load(\"/home/vrajiv/rnn-cnn-natural-language-inference/best_cnn\"))\n",
    "model.eval()\n",
    "for genre in mnli_val_dict.keys():\n",
    "    sent1_val_indices, sent2_val_indices, val_label = data_pipeline(mnli_val_dict[genre][\"sent1s\"], \n",
    "                                                                    mnli_val_dict[genre][\"sent2s\"], \n",
    "                                                                    mnli_val_dict[genre][\"label\"])\n",
    "    val_dataset = TwoSentencesDataset(sent1_val_indices, sent2_val_indices, val_label)\n",
    "    val_loader = torch.utils.data.DataLoader(dataset=val_dataset, \n",
    "                                             batch_size=BATCH_SIZE, \n",
    "                                             collate_fn=twosentences_collate_func,\n",
    "                                             #shuffle=True\n",
    "                                             )\n",
    "    cnn_results[genre] = test_model(val_loader, model)\n",
    "\n",
    "for genre in mnli_val_dict.keys():\n",
    "    print(\"Genre {} has validation accuracy: {}\".format(genre, cnn_results[genre]))\n",
    "    "
   ]
  },
  {
   "cell_type": "markdown",
   "metadata": {},
   "source": [
    "### MNLI results"
   ]
  },
  {
   "cell_type": "markdown",
   "metadata": {},
   "source": [
    "| genre      | CNN (val accuracy) | RNN (val accuracy) |\n",
    "|------------|--------------------|--------------------|\n",
    "| fiction    |       42.31%       |       45.53%       |\n",
    "| telephone  |       43.58%       |       40.40%       |\n",
    "| travel     |       42.57%       |       42.57%       |\n",
    "| slate      |       41.62%       |       40.52%       |\n",
    "| government |       39.76%       |       39.76%       |"
   ]
  }
 ],
 "metadata": {
  "kernelspec": {
   "display_name": "Python 3",
   "language": "python",
   "name": "python3"
  },
  "language_info": {
   "codemirror_mode": {
    "name": "ipython",
    "version": 3
   },
   "file_extension": ".py",
   "mimetype": "text/x-python",
   "name": "python",
   "nbconvert_exporter": "python",
   "pygments_lexer": "ipython3",
   "version": "3.6.4"
  }
 },
 "nbformat": 4,
 "nbformat_minor": 2
}
